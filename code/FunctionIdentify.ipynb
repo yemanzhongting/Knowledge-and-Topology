{
 "cells": [
  {
   "cell_type": "markdown",
   "metadata": {},
   "source": [
    "### show the data process"
   ]
  },
  {
   "cell_type": "code",
   "execution_count": null,
   "metadata": {
    "colab": {
     "base_uri": "https://localhost:8080/"
    },
    "id": "Jx5H4oDz9Uw5",
    "outputId": "5eadf952-4e81-4d4c-fd60-20c5c883bca6"
   },
   "outputs": [
    {
     "name": "stdout",
     "output_type": "stream",
     "text": [
      "0\n",
      "5458\n"
     ]
    }
   ],
   "source": [
    "import pandas as pd\n",
    "osm=pd.read_csv('OSM.csv')\n",
    "osm_fid=osm['FID'].values.tolist()\n",
    "print(len(osm_fid))"
   ]
  },
  {
   "cell_type": "code",
   "execution_count": null,
   "metadata": {
    "colab": {
     "base_uri": "https://localhost:8080/",
     "height": 296
    },
    "id": "QLfod7BasHig",
    "outputId": "d8831bf5-0094-4f81-9348-03b79a78bb8f"
   },
   "outputs": [
    {
     "data": {
      "text/html": [
       "\n",
       "  <div id=\"df-72225ee1-a0e6-464d-bbc3-ceb262a8670f\">\n",
       "    <div class=\"colab-df-container\">\n",
       "      <div>\n",
       "<style scoped>\n",
       "    .dataframe tbody tr th:only-of-type {\n",
       "        vertical-align: middle;\n",
       "    }\n",
       "\n",
       "    .dataframe tbody tr th {\n",
       "        vertical-align: top;\n",
       "    }\n",
       "\n",
       "    .dataframe thead th {\n",
       "        text-align: right;\n",
       "    }\n",
       "</style>\n",
       "<table border=\"1\" class=\"dataframe\">\n",
       "  <thead>\n",
       "    <tr style=\"text-align: right;\">\n",
       "      <th></th>\n",
       "      <th>FID</th>\n",
       "      <th>descriptio</th>\n",
       "      <th>tags</th>\n",
       "      <th>lat_wgs</th>\n",
       "      <th>lon_wgs</th>\n",
       "      <th>pov_exp</th>\n",
       "      <th>heading</th>\n",
       "      <th>orgid</th>\n",
       "      <th>nid</th>\n",
       "      <th>scene</th>\n",
       "      <th>...</th>\n",
       "      <th>F13</th>\n",
       "      <th>F14</th>\n",
       "      <th>F15</th>\n",
       "      <th>F16</th>\n",
       "      <th>F17</th>\n",
       "      <th>F18</th>\n",
       "      <th>F19</th>\n",
       "      <th>F20</th>\n",
       "      <th>F21</th>\n",
       "      <th>0517ID</th>\n",
       "    </tr>\n",
       "  </thead>\n",
       "  <tbody>\n",
       "    <tr>\n",
       "      <th>0</th>\n",
       "      <td>0</td>\n",
       "      <td>Ｇ１０７</td>\n",
       "      <td>GENERAL</td>\n",
       "      <td>30.612083</td>\n",
       "      <td>114.164546</td>\n",
       "      <td>2.0</td>\n",
       "      <td>107.0</td>\n",
       "      <td>10141003150599999000000.000000000000000</td>\n",
       "      <td>10141003150629162530900_right_28.jpg</td>\n",
       "      <td>a road with cars driving on it ; a group of ca...</td>\n",
       "      <td>...</td>\n",
       "      <td>0.0</td>\n",
       "      <td>0.0</td>\n",
       "      <td>0.0</td>\n",
       "      <td>0.0</td>\n",
       "      <td>0.0</td>\n",
       "      <td>0.0</td>\n",
       "      <td>0.0</td>\n",
       "      <td>0.0</td>\n",
       "      <td>0.0</td>\n",
       "      <td>10141003150629162530900</td>\n",
       "    </tr>\n",
       "  </tbody>\n",
       "</table>\n",
       "<p>1 rows × 23 columns</p>\n",
       "</div>\n",
       "      <button class=\"colab-df-convert\" onclick=\"convertToInteractive('df-72225ee1-a0e6-464d-bbc3-ceb262a8670f')\"\n",
       "              title=\"Convert this dataframe to an interactive table.\"\n",
       "              style=\"display:none;\">\n",
       "        \n",
       "  <svg xmlns=\"http://www.w3.org/2000/svg\" height=\"24px\"viewBox=\"0 0 24 24\"\n",
       "       width=\"24px\">\n",
       "    <path d=\"M0 0h24v24H0V0z\" fill=\"none\"/>\n",
       "    <path d=\"M18.56 5.44l.94 2.06.94-2.06 2.06-.94-2.06-.94-.94-2.06-.94 2.06-2.06.94zm-11 1L8.5 8.5l.94-2.06 2.06-.94-2.06-.94L8.5 2.5l-.94 2.06-2.06.94zm10 10l.94 2.06.94-2.06 2.06-.94-2.06-.94-.94-2.06-.94 2.06-2.06.94z\"/><path d=\"M17.41 7.96l-1.37-1.37c-.4-.4-.92-.59-1.43-.59-.52 0-1.04.2-1.43.59L10.3 9.45l-7.72 7.72c-.78.78-.78 2.05 0 2.83L4 21.41c.39.39.9.59 1.41.59.51 0 1.02-.2 1.41-.59l7.78-7.78 2.81-2.81c.8-.78.8-2.07 0-2.86zM5.41 20L4 18.59l7.72-7.72 1.47 1.35L5.41 20z\"/>\n",
       "  </svg>\n",
       "      </button>\n",
       "      \n",
       "  <style>\n",
       "    .colab-df-container {\n",
       "      display:flex;\n",
       "      flex-wrap:wrap;\n",
       "      gap: 12px;\n",
       "    }\n",
       "\n",
       "    .colab-df-convert {\n",
       "      background-color: #E8F0FE;\n",
       "      border: none;\n",
       "      border-radius: 50%;\n",
       "      cursor: pointer;\n",
       "      display: none;\n",
       "      fill: #1967D2;\n",
       "      height: 32px;\n",
       "      padding: 0 0 0 0;\n",
       "      width: 32px;\n",
       "    }\n",
       "\n",
       "    .colab-df-convert:hover {\n",
       "      background-color: #E2EBFA;\n",
       "      box-shadow: 0px 1px 2px rgba(60, 64, 67, 0.3), 0px 1px 3px 1px rgba(60, 64, 67, 0.15);\n",
       "      fill: #174EA6;\n",
       "    }\n",
       "\n",
       "    [theme=dark] .colab-df-convert {\n",
       "      background-color: #3B4455;\n",
       "      fill: #D2E3FC;\n",
       "    }\n",
       "\n",
       "    [theme=dark] .colab-df-convert:hover {\n",
       "      background-color: #434B5C;\n",
       "      box-shadow: 0px 1px 3px 1px rgba(0, 0, 0, 0.15);\n",
       "      filter: drop-shadow(0px 1px 2px rgba(0, 0, 0, 0.3));\n",
       "      fill: #FFFFFF;\n",
       "    }\n",
       "  </style>\n",
       "\n",
       "      <script>\n",
       "        const buttonEl =\n",
       "          document.querySelector('#df-72225ee1-a0e6-464d-bbc3-ceb262a8670f button.colab-df-convert');\n",
       "        buttonEl.style.display =\n",
       "          google.colab.kernel.accessAllowed ? 'block' : 'none';\n",
       "\n",
       "        async function convertToInteractive(key) {\n",
       "          const element = document.querySelector('#df-72225ee1-a0e6-464d-bbc3-ceb262a8670f');\n",
       "          const dataTable =\n",
       "            await google.colab.kernel.invokeFunction('convertToInteractive',\n",
       "                                                     [key], {});\n",
       "          if (!dataTable) return;\n",
       "\n",
       "          const docLinkHtml = 'Like what you see? Visit the ' +\n",
       "            '<a target=\"_blank\" href=https://colab.research.google.com/notebooks/data_table.ipynb>data table notebook</a>'\n",
       "            + ' to learn more about interactive tables.';\n",
       "          element.innerHTML = '';\n",
       "          dataTable['output_type'] = 'display_data';\n",
       "          await google.colab.output.renderOutput(dataTable, element);\n",
       "          const docLink = document.createElement('div');\n",
       "          docLink.innerHTML = docLinkHtml;\n",
       "          element.appendChild(docLink);\n",
       "        }\n",
       "      </script>\n",
       "    </div>\n",
       "  </div>\n",
       "  "
      ],
      "text/plain": [
       "   FID descriptio     tags    lat_wgs     lon_wgs  pov_exp  heading  \\\n",
       "0    0       Ｇ１０７  GENERAL  30.612083  114.164546      2.0    107.0   \n",
       "\n",
       "                                     orgid  \\\n",
       "0  10141003150599999000000.000000000000000   \n",
       "\n",
       "                                    nid  \\\n",
       "0  10141003150629162530900_right_28.jpg   \n",
       "\n",
       "                                               scene  ...  F13  F14  F15  F16  \\\n",
       "0  a road with cars driving on it ; a group of ca...  ...  0.0  0.0  0.0  0.0   \n",
       "\n",
       "   F17  F18  F19  F20  F21                   0517ID  \n",
       "0  0.0  0.0  0.0  0.0  0.0  10141003150629162530900  \n",
       "\n",
       "[1 rows x 23 columns]"
      ]
     },
     "execution_count": 5,
     "metadata": {},
     "output_type": "execute_result"
    }
   ],
   "source": [
    "sv=pd.read_csv('SV.csv')\n",
    "sv['0517ID']=sv['nid'].apply(lambda x: x[0:23])\n",
    "# df['age']=df['age'].apply(lambda x: x+3)\n",
    "sv.head(1)"
   ]
  },
  {
   "cell_type": "code",
   "execution_count": null,
   "metadata": {
    "colab": {
     "base_uri": "https://localhost:8080/",
     "height": 387
    },
    "id": "lmWVuHKyrV53",
    "outputId": "b3c27d44-9e26-4b7b-cbf6-55f8ff696a0e"
   },
   "outputs": [
    {
     "name": "stdout",
     "output_type": "stream",
     "text": [
      "Index(['OBJECTID', 'Join_Count', 'TARGET_FID', 'JOIN_FID', 'descriptio',\n",
      "       'tags', 'lat_wgs', 'lon_wgs', 'pov_exp', 'heading', 'orgid', 'nid',\n",
      "       'scene', 'label', 'multi_labe', 'BUFF_DIST', 'ORIG_FID', 'OBJECTID_1',\n",
      "       'Join_Count_1', 'osm_id', 'Shape_Length', 'Shape_Area'],\n",
      "      dtype='object')\n"
     ]
    },
    {
     "data": {
      "text/html": [
       "\n",
       "  <div id=\"df-a35e6754-0fd2-4a39-95c6-dd67f20fb57f\">\n",
       "    <div class=\"colab-df-container\">\n",
       "      <div>\n",
       "<style scoped>\n",
       "    .dataframe tbody tr th:only-of-type {\n",
       "        vertical-align: middle;\n",
       "    }\n",
       "\n",
       "    .dataframe tbody tr th {\n",
       "        vertical-align: top;\n",
       "    }\n",
       "\n",
       "    .dataframe thead th {\n",
       "        text-align: right;\n",
       "    }\n",
       "</style>\n",
       "<table border=\"1\" class=\"dataframe\">\n",
       "  <thead>\n",
       "    <tr style=\"text-align: right;\">\n",
       "      <th></th>\n",
       "      <th>OBJECTID</th>\n",
       "      <th>Join_Count</th>\n",
       "      <th>TARGET_FID</th>\n",
       "      <th>JOIN_FID</th>\n",
       "      <th>descriptio</th>\n",
       "      <th>tags</th>\n",
       "      <th>lat_wgs</th>\n",
       "      <th>lon_wgs</th>\n",
       "      <th>pov_exp</th>\n",
       "      <th>heading</th>\n",
       "      <th>...</th>\n",
       "      <th>scene</th>\n",
       "      <th>label</th>\n",
       "      <th>multi_labe</th>\n",
       "      <th>BUFF_DIST</th>\n",
       "      <th>ORIG_FID</th>\n",
       "      <th>OBJECTID_1</th>\n",
       "      <th>Join_Count_1</th>\n",
       "      <th>osm_id</th>\n",
       "      <th>Shape_Length</th>\n",
       "      <th>Shape_Area</th>\n",
       "    </tr>\n",
       "  </thead>\n",
       "  <tbody>\n",
       "    <tr>\n",
       "      <th>0</th>\n",
       "      <td>1</td>\n",
       "      <td>29</td>\n",
       "      <td>1</td>\n",
       "      <td>111</td>\n",
       "      <td>Ｇ１０７</td>\n",
       "      <td>GENERAL</td>\n",
       "      <td>30.612083</td>\n",
       "      <td>114.164546</td>\n",
       "      <td>2.0</td>\n",
       "      <td>107.0</td>\n",
       "      <td>...</td>\n",
       "      <td>a road with cars driving on it ; a group of ca...</td>\n",
       "      <td>9.0</td>\n",
       "      <td>[]</td>\n",
       "      <td>30.0</td>\n",
       "      <td>0</td>\n",
       "      <td>1</td>\n",
       "      <td>1</td>\n",
       "      <td>58871382</td>\n",
       "      <td>0.001833</td>\n",
       "      <td>2.648248e-07</td>\n",
       "    </tr>\n",
       "  </tbody>\n",
       "</table>\n",
       "<p>1 rows × 22 columns</p>\n",
       "</div>\n",
       "      <button class=\"colab-df-convert\" onclick=\"convertToInteractive('df-a35e6754-0fd2-4a39-95c6-dd67f20fb57f')\"\n",
       "              title=\"Convert this dataframe to an interactive table.\"\n",
       "              style=\"display:none;\">\n",
       "        \n",
       "  <svg xmlns=\"http://www.w3.org/2000/svg\" height=\"24px\"viewBox=\"0 0 24 24\"\n",
       "       width=\"24px\">\n",
       "    <path d=\"M0 0h24v24H0V0z\" fill=\"none\"/>\n",
       "    <path d=\"M18.56 5.44l.94 2.06.94-2.06 2.06-.94-2.06-.94-.94-2.06-.94 2.06-2.06.94zm-11 1L8.5 8.5l.94-2.06 2.06-.94-2.06-.94L8.5 2.5l-.94 2.06-2.06.94zm10 10l.94 2.06.94-2.06 2.06-.94-2.06-.94-.94-2.06-.94 2.06-2.06.94z\"/><path d=\"M17.41 7.96l-1.37-1.37c-.4-.4-.92-.59-1.43-.59-.52 0-1.04.2-1.43.59L10.3 9.45l-7.72 7.72c-.78.78-.78 2.05 0 2.83L4 21.41c.39.39.9.59 1.41.59.51 0 1.02-.2 1.41-.59l7.78-7.78 2.81-2.81c.8-.78.8-2.07 0-2.86zM5.41 20L4 18.59l7.72-7.72 1.47 1.35L5.41 20z\"/>\n",
       "  </svg>\n",
       "      </button>\n",
       "      \n",
       "  <style>\n",
       "    .colab-df-container {\n",
       "      display:flex;\n",
       "      flex-wrap:wrap;\n",
       "      gap: 12px;\n",
       "    }\n",
       "\n",
       "    .colab-df-convert {\n",
       "      background-color: #E8F0FE;\n",
       "      border: none;\n",
       "      border-radius: 50%;\n",
       "      cursor: pointer;\n",
       "      display: none;\n",
       "      fill: #1967D2;\n",
       "      height: 32px;\n",
       "      padding: 0 0 0 0;\n",
       "      width: 32px;\n",
       "    }\n",
       "\n",
       "    .colab-df-convert:hover {\n",
       "      background-color: #E2EBFA;\n",
       "      box-shadow: 0px 1px 2px rgba(60, 64, 67, 0.3), 0px 1px 3px 1px rgba(60, 64, 67, 0.15);\n",
       "      fill: #174EA6;\n",
       "    }\n",
       "\n",
       "    [theme=dark] .colab-df-convert {\n",
       "      background-color: #3B4455;\n",
       "      fill: #D2E3FC;\n",
       "    }\n",
       "\n",
       "    [theme=dark] .colab-df-convert:hover {\n",
       "      background-color: #434B5C;\n",
       "      box-shadow: 0px 1px 3px 1px rgba(0, 0, 0, 0.15);\n",
       "      filter: drop-shadow(0px 1px 2px rgba(0, 0, 0, 0.3));\n",
       "      fill: #FFFFFF;\n",
       "    }\n",
       "  </style>\n",
       "\n",
       "      <script>\n",
       "        const buttonEl =\n",
       "          document.querySelector('#df-a35e6754-0fd2-4a39-95c6-dd67f20fb57f button.colab-df-convert');\n",
       "        buttonEl.style.display =\n",
       "          google.colab.kernel.accessAllowed ? 'block' : 'none';\n",
       "\n",
       "        async function convertToInteractive(key) {\n",
       "          const element = document.querySelector('#df-a35e6754-0fd2-4a39-95c6-dd67f20fb57f');\n",
       "          const dataTable =\n",
       "            await google.colab.kernel.invokeFunction('convertToInteractive',\n",
       "                                                     [key], {});\n",
       "          if (!dataTable) return;\n",
       "\n",
       "          const docLinkHtml = 'Like what you see? Visit the ' +\n",
       "            '<a target=\"_blank\" href=https://colab.research.google.com/notebooks/data_table.ipynb>data table notebook</a>'\n",
       "            + ' to learn more about interactive tables.';\n",
       "          element.innerHTML = '';\n",
       "          dataTable['output_type'] = 'display_data';\n",
       "          await google.colab.output.renderOutput(dataTable, element);\n",
       "          const docLink = document.createElement('div');\n",
       "          docLink.innerHTML = docLinkHtml;\n",
       "          element.appendChild(docLink);\n",
       "        }\n",
       "      </script>\n",
       "    </div>\n",
       "  </div>\n",
       "  "
      ],
      "text/plain": [
       "   OBJECTID  Join_Count  TARGET_FID  JOIN_FID descriptio     tags    lat_wgs  \\\n",
       "0         1          29           1       111       Ｇ１０７  GENERAL  30.612083   \n",
       "\n",
       "      lon_wgs  pov_exp  heading  ...  \\\n",
       "0  114.164546      2.0    107.0  ...   \n",
       "\n",
       "                                               scene label multi_labe  \\\n",
       "0  a road with cars driving on it ; a group of ca...   9.0         []   \n",
       "\n",
       "   BUFF_DIST ORIG_FID  OBJECTID_1  Join_Count_1    osm_id  Shape_Length  \\\n",
       "0       30.0        0           1             1  58871382      0.001833   \n",
       "\n",
       "     Shape_Area  \n",
       "0  2.648248e-07  \n",
       "\n",
       "[1 rows x 22 columns]"
      ]
     },
     "execution_count": 7,
     "metadata": {},
     "output_type": "execute_result"
    }
   ],
   "source": [
    "#不同值代表不同的用地类型\n",
    "sv_osm=pd.read_csv('OSMSV.csv')\n",
    "print(sv_osm.columns)\n",
    "sv_osm.head(1)"
   ]
  },
  {
   "cell_type": "code",
   "execution_count": null,
   "metadata": {
    "colab": {
     "base_uri": "https://localhost:8080/"
    },
    "id": "906XvWvB5_Y9",
    "outputId": "6228524f-b2f4-40bf-f0da-4465b307ca8d"
   },
   "outputs": [
    {
     "name": "stdout",
     "output_type": "stream",
     "text": [
      "0\n",
      "13889\n"
     ]
    }
   ],
   "source": [
    "sv_fid=list(set(sv_osm['ORIG_FID'].values.tolist()))\n",
    "print(sv_fid[0])\n",
    "print(len(sv_fid))"
   ]
  },
  {
   "cell_type": "code",
   "execution_count": null,
   "metadata": {
    "colab": {
     "base_uri": "https://localhost:8080/"
    },
    "id": "C0FhKunmAhze",
    "outputId": "3ef04d8e-b391-45f0-92b2-4eecfeb40288"
   },
   "outputs": [
    {
     "data": {
      "text/plain": [
       "(28693, 22)"
      ]
     },
     "execution_count": 9,
     "metadata": {},
     "output_type": "execute_result"
    }
   ],
   "source": [
    "sv_osm.shape\n",
    "#平均5000+路段,每个路段有5个连接"
   ]
  },
  {
   "cell_type": "code",
   "execution_count": null,
   "metadata": {
    "id": "GJP22EhLrgHW"
   },
   "outputs": [],
   "source": [
    "osm_sv_scene={}\n",
    "osm_sv_id={}\n",
    "osm_sv_imgpath={}\n",
    "\n",
    "osm_sv_label={}\n",
    "osm_sv_wuhan={}\n",
    "\n",
    "for i in osm_fid:\n",
    "  osm_sv_id[i]=sv_osm[sv_osm['JOIN_FID']==i]['ORIG_FID'].values.tolist()\n",
    "  osm_sv_scene[i]=sv_osm[sv_osm['JOIN_FID']==i]['scene'].values.tolist()\n",
    "  osm_sv_imgpath[i]=sv_osm[sv_osm['JOIN_FID']==i]['nid'].values.tolist()\n",
    "  #来计算标签\n",
    "  osm_sv_label[i]=sv_osm[sv_osm['JOIN_FID']==i]['multi_labe'].values.tolist()\n",
    "  # osm_sv_wuhan[i]=sv_osm[sv_osm['JOIN_FID']==i]['type'].values.tolist()"
   ]
  },
  {
   "cell_type": "markdown",
   "metadata": {},
   "source": [
    "### show the data"
   ]
  },
  {
   "cell_type": "code",
   "execution_count": null,
   "metadata": {
    "colab": {
     "base_uri": "https://localhost:8080/",
     "height": 89
    },
    "id": "gxbBQ8wZMnBq",
    "outputId": "f961c506-666b-40ff-ca99-3221312743f2"
   },
   "outputs": [
    {
     "data": {
      "image/png": "[encoded data removed]",
      "text/plain": [
       "<Figure size 432x288 with 4 Axes>"
      ]
     },
     "metadata": {
      "needs_background": "light"
     },
     "output_type": "display_data"
    }
   ],
   "source": [
    "from PIL import Image\n",
    "import matplotlib.pyplot as plt\n",
    "tmp=location_image['10141119130101140934800']\n",
    "\n",
    "fig, (ax1,ax2,ax3,ax4) = plt.subplots(1, 4)\n",
    "# figure(figsize = (10,10)) #\n",
    "# fig.suptitle('Horizontally stacked subplots')\n",
    "ax1.imshow(Image.open(os.path.join('/content/streetview',tmp[0])))\n",
    "ax1.axis('off')\n",
    "ax2.imshow(Image.open(os.path.join('/content/streetview',tmp[1])))\n",
    "ax2.axis('off')\n",
    "ax3.imshow(Image.open(os.path.join('/content/streetview',tmp[2])))\n",
    "ax3.axis('off')\n",
    "ax4.imshow(Image.open(os.path.join('/content/streetview',tmp[3])))\n",
    "ax4.axis('off')\n",
    "plt.savefig('9.jpg',dpi=300)"
   ]
  },
  {
   "cell_type": "code",
   "execution_count": null,
   "metadata": {
    "colab": {
     "base_uri": "https://localhost:8080/"
    },
    "id": "6O9OF07b1WnD",
    "outputId": "354530e8-db7b-4697-b25d-5d0c39fc905c"
   },
   "outputs": [
    {
     "name": "stdout",
     "output_type": "stream",
     "text": [
      "1.11.0+cu113\n"
     ]
    }
   ],
   "source": [
    "import torch\n",
    "print(torch.__version__)  #注意是双下划线"
   ]
  },
  {
   "cell_type": "code",
   "execution_count": null,
   "metadata": {
    "colab": {
     "base_uri": "https://localhost:8080/"
    },
    "id": "ZHQvUEX73877",
    "outputId": "ae6a83f9-735d-488b-df53-14d8cf13cd46"
   },
   "outputs": [
    {
     "name": "stdout",
     "output_type": "stream",
     "text": [
      "Looking in indexes: https://pypi.org/simple, https://us-python.pkg.dev/colab-wheels/public/simple/\n",
      "Looking in links: https://data.pyg.org/whl/torch-1.11.0+cu113.html\n",
      "Collecting torch-scatter\n",
      "  Downloading https://data.pyg.org/whl/torch-1.11.0%2Bcu113/torch_scatter-2.0.9-cp37-cp37m-linux_x86_64.whl (7.9 MB)\n",
      "\u001b[K     |████████████████████████████████| 7.9 MB 2.8 MB/s \n",
      "\u001b[?25hInstalling collected packages: torch-scatter\n",
      "Successfully installed torch-scatter-2.0.9\n",
      "Looking in indexes: https://pypi.org/simple, https://us-python.pkg.dev/colab-wheels/public/simple/\n",
      "Looking in links: https://data.pyg.org/whl/torch-1.11.0+cu113.html\n",
      "Collecting torch-sparse\n",
      "  Downloading https://data.pyg.org/whl/torch-1.11.0%2Bcu113/torch_sparse-0.6.13-cp37-cp37m-linux_x86_64.whl (3.5 MB)\n",
      "\u001b[K     |████████████████████████████████| 3.5 MB 2.9 MB/s \n",
      "\u001b[?25hRequirement already satisfied: scipy in /usr/local/lib/python3.7/dist-packages (from torch-sparse) (1.4.1)\n",
      "Requirement already satisfied: numpy>=1.13.3 in /usr/local/lib/python3.7/dist-packages (from scipy->torch-sparse) (1.21.6)\n",
      "Installing collected packages: torch-sparse\n",
      "Successfully installed torch-sparse-0.6.13\n",
      "Looking in indexes: https://pypi.org/simple, https://us-python.pkg.dev/colab-wheels/public/simple/\n",
      "Collecting torch-geometric\n",
      "  Downloading torch_geometric-2.0.4.tar.gz (407 kB)\n",
      "\u001b[K     |████████████████████████████████| 407 kB 5.1 MB/s \n",
      "\u001b[?25hRequirement already satisfied: tqdm in /usr/local/lib/python3.7/dist-packages (from torch-geometric) (4.64.0)\n",
      "Requirement already satisfied: numpy in /usr/local/lib/python3.7/dist-packages (from torch-geometric) (1.21.6)\n",
      "Requirement already satisfied: scipy in /usr/local/lib/python3.7/dist-packages (from torch-geometric) (1.4.1)\n",
      "Requirement already satisfied: pandas in /usr/local/lib/python3.7/dist-packages (from torch-geometric) (1.3.5)\n",
      "Requirement already satisfied: jinja2 in /usr/local/lib/python3.7/dist-packages (from torch-geometric) (2.11.3)\n",
      "Requirement already satisfied: requests in /usr/local/lib/python3.7/dist-packages (from torch-geometric) (2.23.0)\n",
      "Requirement already satisfied: pyparsing in /usr/local/lib/python3.7/dist-packages (from torch-geometric) (3.0.9)\n",
      "Requirement already satisfied: scikit-learn in /usr/local/lib/python3.7/dist-packages (from torch-geometric) (1.0.2)\n",
      "Requirement already satisfied: MarkupSafe>=0.23 in /usr/local/lib/python3.7/dist-packages (from jinja2->torch-geometric) (2.0.1)\n",
      "Requirement already satisfied: pytz>=2017.3 in /usr/local/lib/python3.7/dist-packages (from pandas->torch-geometric) (2022.1)\n",
      "Requirement already satisfied: python-dateutil>=2.7.3 in /usr/local/lib/python3.7/dist-packages (from pandas->torch-geometric) (2.8.2)\n",
      "Requirement already satisfied: six>=1.5 in /usr/local/lib/python3.7/dist-packages (from python-dateutil>=2.7.3->pandas->torch-geometric) (1.15.0)\n",
      "Requirement already satisfied: chardet<4,>=3.0.2 in /usr/local/lib/python3.7/dist-packages (from requests->torch-geometric) (3.0.4)\n",
      "Requirement already satisfied: idna<3,>=2.5 in /usr/local/lib/python3.7/dist-packages (from requests->torch-geometric) (2.10)\n",
      "Requirement already satisfied: urllib3!=1.25.0,!=1.25.1,<1.26,>=1.21.1 in /usr/local/lib/python3.7/dist-packages (from requests->torch-geometric) (1.24.3)\n",
      "Requirement already satisfied: certifi>=2017.4.17 in /usr/local/lib/python3.7/dist-packages (from requests->torch-geometric) (2022.6.15)\n",
      "Requirement already satisfied: threadpoolctl>=2.0.0 in /usr/local/lib/python3.7/dist-packages (from scikit-learn->torch-geometric) (3.1.0)\n",
      "Requirement already satisfied: joblib>=0.11 in /usr/local/lib/python3.7/dist-packages (from scikit-learn->torch-geometric) (1.1.0)\n",
      "Building wheels for collected packages: torch-geometric\n",
      "  Building wheel for torch-geometric (setup.py) ... \u001b[?25l\u001b[?25hdone\n",
      "  Created wheel for torch-geometric: filename=torch_geometric-2.0.4-py3-none-any.whl size=616603 sha256=6af8f818625b080ff2e5ed4bb926e188f258bc532eeb14d49e28eaac413a59b6\n",
      "  Stored in directory: /root/.cache/pip/wheels/18/a6/a4/ca18c3051fcead866fe7b85700ee2240d883562a1bc70ce421\n",
      "Successfully built torch-geometric\n",
      "Installing collected packages: torch-geometric\n",
      "Successfully installed torch-geometric-2.0.4\n"
     ]
    }
   ],
   "source": [
    "!pip install torch-scatter -f https://data.pyg.org/whl/torch-1.11.0+cu113.html\n",
    "!pip install torch-sparse -f https://data.pyg.org/whl/torch-1.11.0+cu113.html\n",
    "!pip install torch-geometric"
   ]
  },
  {
   "cell_type": "code",
   "execution_count": null,
   "metadata": {
    "colab": {
     "base_uri": "https://localhost:8080/"
    },
    "id": "pgiwfImqGc4H",
    "outputId": "2012ea5a-d24f-42a2-a4fc-2a3806b4743b"
   },
   "outputs": [
    {
     "data": {
      "text/plain": [
       "27290"
      ]
     },
     "execution_count": 15,
     "metadata": {},
     "output_type": "execute_result"
    }
   ],
   "source": [
    "with open('OsmRoadJoinLarge1_buffer_forgeoda_k5.gwt','r+') as f:\n",
    "  edges=f.readlines()\n",
    "edge_index=[]\n",
    "for edge in edges[1:]:\n",
    "  edge_index.append(list(map(int,edge.split(' ')[0:2])))\n",
    "edge_index = torch.tensor(edge_index, dtype=torch.long) \n",
    "len(edge_index)"
   ]
  },
  {
   "cell_type": "code",
   "execution_count": null,
   "metadata": {
    "colab": {
     "base_uri": "https://localhost:8080/"
    },
    "id": "I5fgWTxCdJN-",
    "outputId": "dfcf4605-71ed-496f-af7e-5769010b9ca0"
   },
   "outputs": [
    {
     "data": {
      "text/plain": [
       "torch.Size([23549, 2])"
      ]
     },
     "execution_count": 22,
     "metadata": {},
     "output_type": "execute_result"
    }
   ],
   "source": [
    "with open('OsmRoadJoinLarge1_buffer_forgeoda_Queen.gal','r+') as f:\n",
    "  edges=f.readlines()\n",
    "edge_index=[]\n",
    "num = 0  # 行数-1\n",
    "adds=0\n",
    "for line in edges[1:]:\n",
    "  if (num % 2) == 0:  # num为偶数说明是奇数行\n",
    "    tmp=line.strip().split(' ')\n",
    "    origin=int(tmp[0])\n",
    "    if int(tmp[1])>0:\n",
    "      condition=1\n",
    "    else:\n",
    "      condition=0\n",
    "  else:  # # num为奇数说明是偶数行\n",
    "    tmp=line.strip().split(' ')\n",
    "    if condition==1:\n",
    "      for j in tmp:\n",
    "        edge_index.append([origin,int(j)])\n",
    "    else:\n",
    "      if origin<5457:\n",
    "        edge_index.append([origin,origin+1])\n",
    "      else:\n",
    "        edge_index.append([origin,origin-1])\n",
    "      adds=adds+1\n",
    "  num += 1\n",
    "edge_index = torch.tensor(edge_index, dtype=torch.long) \n",
    "edge_index.shape"
   ]
  },
  {
   "cell_type": "markdown",
   "metadata": {
    "id": "bl-RwvkAGUbl"
   },
   "source": [
    "#### build node features"
   ]
  },
  {
   "cell_type": "code",
   "execution_count": null,
   "metadata": {
    "colab": {
     "base_uri": "https://localhost:8080/"
    },
    "id": "g2ql10G7JwrC",
    "outputId": "9f26eeb9-1b3c-4961-ff39-bdeeec5a33be"
   },
   "outputs": [
    {
     "name": "stdout",
     "output_type": "stream",
     "text": [
      "(768, 5459)\n"
     ]
    },
    {
     "data": {
      "text/plain": [
       "(5458, 768)"
      ]
     },
     "execution_count": 17,
     "metadata": {},
     "output_type": "execute_result"
    }
   ],
   "source": [
    "# %time\n",
    "# embeddings = model.encode(scene_list)\n",
    "\n",
    "print(pd.read_csv('osmembd0516.csv').values.shape)\n",
    "embeddings=pd.read_csv('osmembd0516.csv').values[:,1:].T\n",
    "embeddings.shape"
   ]
  },
  {
   "cell_type": "markdown",
   "metadata": {
    "id": "Z_AI157zGXp5"
   },
   "source": [
    "#### build y label  and test_mask"
   ]
  },
  {
   "cell_type": "code",
   "execution_count": null,
   "metadata": {
    "id": "1OIK1P_nYI3V"
   },
   "outputs": [],
   "source": [
    "labels=[101,201,202,301,402,501,502,503,504,505]\n",
    "slabels=[\"['101']\",\"['201']\",\"['202']\",\"['301']\",\"['402']\",\"['501']\",\"['502']\",\"['503']\",\"['504']\",\"['505']\"]\n",
    "types_label=['0', '1', '10', '2', '3', '4', '5', '6', '7', '8', '9']\n",
    "#{' ', '0', '1', '10', '2', '3', '4', '5', '6', '7', '8', '9', nan}"
   ]
  },
  {
   "cell_type": "code",
   "execution_count": null,
   "metadata": {
    "id": "mdlqasHgdCf8"
   },
   "outputs": [],
   "source": [
    "osm_fid_label={}\n",
    "for fid in osm_fid:\n",
    "  tmp=osm_sv_label[fid]\n",
    "  max_label=max(tmp,key=tmp.count)\n",
    "  max_label_num=tmp.count(max(tmp,key=tmp.count))\n",
    "  if max_label in slabels:\n",
    "    res_label=slabels.index(max_label)\n",
    "  else:\n",
    "    res_label=-1\n",
    "  osm_fid_label[fid]=[res_label,max_label_num]"
   ]
  },
  {
   "cell_type": "code",
   "execution_count": null,
   "metadata": {
    "id": "lGa1mHTSejdX"
   },
   "outputs": [],
   "source": [
    "#deal with multi labels\n",
    "label_mask=[]\n",
    "label_y=[]\n",
    "for fid in osm_fid:\n",
    "  if osm_fid_label[fid][1]>2 and osm_fid_label[fid][0]!=-1:\n",
    "    label_y.append(osm_fid_label[fid][0])\n",
    "    label_mask.append(True)\n",
    "  else:\n",
    "    label_y.append(-1)\n",
    "    label_mask.append(False)"
   ]
  },
  {
   "cell_type": "code",
   "execution_count": null,
   "metadata": {
    "colab": {
     "base_uri": "https://localhost:8080/"
    },
    "id": "5fr2moUdfXye",
    "outputId": "fec7a1ab-d7dd-46b6-c26a-1ac085e22d44"
   },
   "outputs": [
    {
     "data": {
      "text/plain": [
       "Counter({-1: 4930,\n",
       "         0: 320,\n",
       "         1: 15,\n",
       "         2: 29,\n",
       "         3: 37,\n",
       "         4: 6,\n",
       "         5: 6,\n",
       "         6: 65,\n",
       "         7: 12,\n",
       "         8: 28,\n",
       "         9: 10})"
      ]
     },
     "execution_count": 21,
     "metadata": {},
     "output_type": "execute_result"
    }
   ],
   "source": [
    "from collections import Counter\n",
    "result = Counter(label_y)\n",
    "result"
   ]
  },
  {
   "cell_type": "code",
   "execution_count": null,
   "metadata": {
    "colab": {
     "base_uri": "https://localhost:8080/"
    },
    "id": "YC_KB3rcgeMK",
    "outputId": "cfa9f407-be19-40aa-a257-d4430a4ef669"
   },
   "outputs": [
    {
     "data": {
      "text/plain": [
       "Counter({-1: 5163,\n",
       "         0: 87,\n",
       "         1: 15,\n",
       "         2: 29,\n",
       "         3: 37,\n",
       "         4: 6,\n",
       "         5: 6,\n",
       "         6: 65,\n",
       "         7: 12,\n",
       "         8: 28,\n",
       "         9: 10})"
      ]
     },
     "execution_count": 22,
     "metadata": {},
     "output_type": "execute_result"
    }
   ],
   "source": [
    "#deal with multi labels\n",
    "label_mask=[]\n",
    "label_y=[]\n",
    "balanced_label=0\n",
    "for fid in osm_fid:\n",
    "  if osm_fid_label[fid][0]==0:\n",
    "    balanced_label=balanced_label+1\n",
    "  if osm_fid_label[fid][1]>2 and osm_fid_label[fid][0]!=-1:\n",
    "    if balanced_label>200 and osm_fid_label[fid][0]==0:\n",
    "      label_y.append(-1)\n",
    "      label_mask.append(False)\n",
    "    else:\n",
    "      label_y.append(osm_fid_label[fid][0])\n",
    "      label_mask.append(True) \n",
    "  else:\n",
    "    label_y.append(-1)\n",
    "    label_mask.append(False)\n",
    "from collections import Counter\n",
    "result = Counter(label_y)\n",
    "result"
   ]
  },
  {
   "cell_type": "code",
   "execution_count": null,
   "metadata": {
    "id": "vbCgbXv3_6MJ"
   },
   "outputs": [],
   "source": [
    "import numpy as np\n",
    "pd.DataFrame({'Origin':np.array(label_y)}).to_csv('Origin.csv')"
   ]
  },
  {
   "cell_type": "markdown",
   "metadata": {
    "id": "-3dfgCm4mE7U"
   },
   "source": [
    "#### training"
   ]
  },
  {
   "cell_type": "code",
   "execution_count": null,
   "metadata": {
    "id": "7MvFVI2QmCha"
   },
   "outputs": [],
   "source": [
    "import torch\n",
    "from torch_geometric.data import Data\n",
    "import numpy as np\n",
    "# edge_index = edge_index\n",
    "x = torch.tensor(embeddings, dtype=torch.float)\n",
    "\n",
    "data = Data(x=x, edge_index=edge_index.t().contiguous(),\n",
    "y=torch.from_numpy(np.array(label_y)),\n",
    "train_mask=torch.from_numpy(np.array(label_mask)),\n",
    "test_mask=torch.from_numpy(np.array(label_mask)))"
   ]
  },
  {
   "cell_type": "code",
   "execution_count": null,
   "metadata": {
    "colab": {
     "base_uri": "https://localhost:8080/"
    },
    "id": "AH4cz1ZmMY22",
    "outputId": "794b73a6-bf8a-49ff-cd55-95761a729b14"
   },
   "outputs": [
    {
     "name": "stdout",
     "output_type": "stream",
     "text": [
      "GCN(\n",
      "  (conv1): GCNConv(768, 32)\n",
      "  (conv2): GCNConv(32, 16)\n",
      "  (conv3): GCNConv(16, 10)\n",
      ")\n"
     ]
    }
   ],
   "source": [
    "from torch_geometric.nn import GCNConv\n",
    "import torch\n",
    "from torch.nn import Linear\n",
    "import torch.nn.functional as F\n",
    "class GCN(torch.nn.Module):\n",
    "    def __init__(self, hidden_channel1,hidden_channel2):\n",
    "        super().__init__()\n",
    "        torch.manual_seed(1234567)\n",
    "        self.conv1 = GCNConv(768, hidden_channel1)#768\n",
    "        self.conv2 = GCNConv(hidden_channel1, hidden_channel2)\n",
    "        self.conv3 = GCNConv(hidden_channel2,10)#dataset.num_classes\n",
    "\n",
    "    def forward(self, x, edge_index):\n",
    "        x = self.conv1(x, edge_index)\n",
    "        x = x.relu()\n",
    "        x = F.dropout(x, p=0.2, training=self.training)\n",
    "        x = self.conv2(x, edge_index)\n",
    "        x = x.relu()\n",
    "        x = F.dropout(x, p=0.2, training=self.training)\n",
    "        x = self.conv3(x, edge_index)\n",
    "        return x\n",
    "model = GCN(hidden_channel1=32,hidden_channel2=16)\n",
    "print(model)"
   ]
  },
  {
   "cell_type": "code",
   "execution_count": null,
   "metadata": {
    "colab": {
     "base_uri": "https://localhost:8080/"
    },
    "id": "ir_axca4xItp",
    "outputId": "122a6c9c-6c40-4c2e-8d0f-3a3d0707abfb"
   },
   "outputs": [
    {
     "name": "stdout",
     "output_type": "stream",
     "text": [
      "SAGE(\n",
      "  (conv1): SAGEConv(768, 32)\n",
      "  (conv2): SAGEConv(32, 16)\n",
      "  (conv3): SAGEConv(16, 10)\n",
      ")\n"
     ]
    }
   ],
   "source": [
    "from torch_geometric.nn import SAGEConv\n",
    "import torch\n",
    "from torch.nn import Linear\n",
    "import torch.nn.functional as F\n",
    "class SAGE(torch.nn.Module):\n",
    "    def __init__(self, hidden_channel1,hidden_channel2):\n",
    "        super().__init__()\n",
    "        torch.manual_seed(1234567)\n",
    "        self.conv1 = SAGEConv(768, hidden_channel1)#768\n",
    "        self.conv2 = SAGEConv(hidden_channel1, hidden_channel2)\n",
    "        self.conv3 = SAGEConv(hidden_channel2,10)#dataset.num_classes\n",
    "\n",
    "    def forward(self, x, edge_index):\n",
    "        x = self.conv1(x, edge_index)\n",
    "        x = x.relu()\n",
    "        x = F.dropout(x, p=0.2, training=self.training)\n",
    "        x = self.conv2(x, edge_index)\n",
    "        x = x.relu()\n",
    "        x = F.dropout(x, p=0.2, training=self.training)\n",
    "        x = self.conv3(x, edge_index)\n",
    "        return x\n",
    "model = SAGE(hidden_channel1=32,hidden_channel2=16)\n",
    "print(model)"
   ]
  },
  {
   "cell_type": "code",
   "execution_count": null,
   "metadata": {
    "colab": {
     "base_uri": "https://localhost:8080/"
    },
    "id": "UhUU9L5ITnQG",
    "outputId": "c355633a-b32f-4d43-f5b4-a457a228c968"
   },
   "outputs": [
    {
     "name": "stdout",
     "output_type": "stream",
     "text": [
      "GAT(\n",
      "  (conv1): GATConv(768, 64, heads=8)\n",
      "  (conv2): GATConv(512, 10, heads=10)\n",
      ")\n",
      "Epoch: 001, Loss: 2.6986, Val: 0.2949, Test: 0.2949\n",
      "Epoch: 002, Loss: 2.8237, Val: 0.2237, Test: 0.2237\n",
      "Epoch: 003, Loss: 2.5791, Val: 0.1729, Test: 0.1729\n",
      "Epoch: 004, Loss: 2.4887, Val: 0.1492, Test: 0.1492\n",
      "Epoch: 005, Loss: 2.4117, Val: 0.3085, Test: 0.3085\n",
      "Epoch: 006, Loss: 2.2896, Val: 0.3085, Test: 0.3085\n",
      "Epoch: 007, Loss: 2.2410, Val: 0.3051, Test: 0.3051\n",
      "Epoch: 008, Loss: 2.1366, Val: 0.2373, Test: 0.2373\n",
      "Epoch: 009, Loss: 2.2014, Val: 0.2339, Test: 0.2339\n",
      "Epoch: 010, Loss: 2.0535, Val: 0.2949, Test: 0.2949\n",
      "Epoch: 011, Loss: 2.0487, Val: 0.2610, Test: 0.2610\n",
      "Epoch: 012, Loss: 2.0391, Val: 0.3525, Test: 0.3525\n",
      "Epoch: 013, Loss: 2.0503, Val: 0.3322, Test: 0.3322\n",
      "Epoch: 014, Loss: 2.0230, Val: 0.3424, Test: 0.3424\n",
      "Epoch: 015, Loss: 1.9873, Val: 0.3627, Test: 0.3627\n",
      "Epoch: 016, Loss: 2.0101, Val: 0.3729, Test: 0.3729\n",
      "Epoch: 017, Loss: 2.0073, Val: 0.3797, Test: 0.3797\n",
      "Epoch: 018, Loss: 1.9751, Val: 0.3729, Test: 0.3729\n",
      "Epoch: 019, Loss: 2.0494, Val: 0.4102, Test: 0.4102\n",
      "Epoch: 020, Loss: 1.9180, Val: 0.4169, Test: 0.4169\n",
      "Epoch: 021, Loss: 1.9268, Val: 0.3763, Test: 0.3763\n",
      "Epoch: 022, Loss: 1.9263, Val: 0.3627, Test: 0.3627\n",
      "Epoch: 023, Loss: 1.9880, Val: 0.3661, Test: 0.3661\n",
      "Epoch: 024, Loss: 1.9172, Val: 0.3831, Test: 0.3831\n",
      "Epoch: 025, Loss: 1.8963, Val: 0.4068, Test: 0.4068\n",
      "Epoch: 026, Loss: 1.9293, Val: 0.4068, Test: 0.4068\n",
      "Epoch: 027, Loss: 1.9647, Val: 0.4034, Test: 0.4034\n",
      "Epoch: 028, Loss: 1.8999, Val: 0.4102, Test: 0.4102\n",
      "Epoch: 029, Loss: 1.9177, Val: 0.4000, Test: 0.4000\n",
      "Epoch: 030, Loss: 1.8453, Val: 0.3864, Test: 0.3864\n",
      "Epoch: 031, Loss: 1.8239, Val: 0.3729, Test: 0.3729\n",
      "Epoch: 032, Loss: 1.9376, Val: 0.3729, Test: 0.3729\n",
      "Epoch: 033, Loss: 1.9378, Val: 0.3831, Test: 0.3831\n",
      "Epoch: 034, Loss: 1.8264, Val: 0.4102, Test: 0.4102\n",
      "Epoch: 035, Loss: 1.8257, Val: 0.4068, Test: 0.4068\n",
      "Epoch: 036, Loss: 1.8820, Val: 0.4271, Test: 0.4271\n",
      "Epoch: 037, Loss: 1.8459, Val: 0.4576, Test: 0.4576\n",
      "Epoch: 038, Loss: 1.8663, Val: 0.4339, Test: 0.4339\n",
      "Epoch: 039, Loss: 1.8017, Val: 0.4407, Test: 0.4407\n",
      "Epoch: 040, Loss: 1.9244, Val: 0.4237, Test: 0.4237\n",
      "Epoch: 041, Loss: 1.8313, Val: 0.4203, Test: 0.4203\n",
      "Epoch: 042, Loss: 1.8207, Val: 0.4068, Test: 0.4068\n",
      "Epoch: 043, Loss: 1.7875, Val: 0.4237, Test: 0.4237\n",
      "Epoch: 044, Loss: 1.8606, Val: 0.4237, Test: 0.4237\n",
      "Epoch: 045, Loss: 1.9210, Val: 0.4271, Test: 0.4271\n",
      "Epoch: 046, Loss: 1.8544, Val: 0.4339, Test: 0.4339\n",
      "Epoch: 047, Loss: 1.8594, Val: 0.4373, Test: 0.4373\n",
      "Epoch: 048, Loss: 1.7920, Val: 0.4407, Test: 0.4407\n",
      "Epoch: 049, Loss: 1.8150, Val: 0.4305, Test: 0.4305\n",
      "Epoch: 050, Loss: 1.7724, Val: 0.4203, Test: 0.4203\n",
      "Epoch: 051, Loss: 1.8239, Val: 0.4305, Test: 0.4305\n",
      "Epoch: 052, Loss: 1.7958, Val: 0.4305, Test: 0.4305\n",
      "Epoch: 053, Loss: 1.7352, Val: 0.4271, Test: 0.4271\n",
      "Epoch: 054, Loss: 1.7828, Val: 0.4407, Test: 0.4407\n",
      "Epoch: 055, Loss: 1.8465, Val: 0.4339, Test: 0.4339\n",
      "Epoch: 056, Loss: 1.7604, Val: 0.4475, Test: 0.4475\n",
      "Epoch: 057, Loss: 1.7526, Val: 0.4610, Test: 0.4610\n",
      "Epoch: 058, Loss: 1.7294, Val: 0.4780, Test: 0.4780\n",
      "Epoch: 059, Loss: 1.7154, Val: 0.4644, Test: 0.4644\n",
      "Epoch: 060, Loss: 1.7669, Val: 0.4780, Test: 0.4780\n",
      "Epoch: 061, Loss: 1.7261, Val: 0.4847, Test: 0.4847\n",
      "Epoch: 062, Loss: 1.7233, Val: 0.4542, Test: 0.4542\n",
      "Epoch: 063, Loss: 1.7573, Val: 0.4475, Test: 0.4475\n",
      "Epoch: 064, Loss: 1.7584, Val: 0.4576, Test: 0.4576\n",
      "Epoch: 065, Loss: 1.7011, Val: 0.4542, Test: 0.4542\n",
      "Epoch: 066, Loss: 1.7565, Val: 0.4746, Test: 0.4746\n",
      "Epoch: 067, Loss: 1.6756, Val: 0.4780, Test: 0.4780\n",
      "Epoch: 068, Loss: 1.7322, Val: 0.4746, Test: 0.4746\n",
      "Epoch: 069, Loss: 1.6884, Val: 0.4847, Test: 0.4847\n",
      "Epoch: 070, Loss: 1.7683, Val: 0.4915, Test: 0.4915\n",
      "Epoch: 071, Loss: 1.6919, Val: 0.4847, Test: 0.4847\n",
      "Epoch: 072, Loss: 1.6834, Val: 0.4983, Test: 0.4983\n",
      "Epoch: 073, Loss: 1.6077, Val: 0.5051, Test: 0.5051\n",
      "Epoch: 074, Loss: 1.7508, Val: 0.4949, Test: 0.4949\n",
      "Epoch: 075, Loss: 1.6833, Val: 0.4780, Test: 0.4780\n",
      "Epoch: 076, Loss: 1.7516, Val: 0.4949, Test: 0.4949\n",
      "Epoch: 077, Loss: 1.6938, Val: 0.5186, Test: 0.5186\n",
      "Epoch: 078, Loss: 1.6238, Val: 0.5085, Test: 0.5085\n",
      "Epoch: 079, Loss: 1.6728, Val: 0.4915, Test: 0.4915\n",
      "Epoch: 080, Loss: 1.6620, Val: 0.4949, Test: 0.4949\n",
      "Epoch: 081, Loss: 1.6732, Val: 0.4814, Test: 0.4814\n",
      "Epoch: 082, Loss: 1.6993, Val: 0.4746, Test: 0.4746\n",
      "Epoch: 083, Loss: 1.6619, Val: 0.4881, Test: 0.4881\n",
      "Epoch: 084, Loss: 1.6956, Val: 0.4915, Test: 0.4915\n",
      "Epoch: 085, Loss: 1.6353, Val: 0.4983, Test: 0.4983\n",
      "Epoch: 086, Loss: 1.6239, Val: 0.4814, Test: 0.4814\n",
      "Epoch: 087, Loss: 1.6620, Val: 0.4881, Test: 0.4881\n",
      "Epoch: 088, Loss: 1.6158, Val: 0.4881, Test: 0.4881\n",
      "Epoch: 089, Loss: 1.6059, Val: 0.4847, Test: 0.4847\n",
      "Epoch: 090, Loss: 1.6031, Val: 0.5085, Test: 0.5085\n",
      "Epoch: 091, Loss: 1.6070, Val: 0.5051, Test: 0.5051\n",
      "Epoch: 092, Loss: 1.4865, Val: 0.5424, Test: 0.5424\n",
      "Epoch: 093, Loss: 1.6319, Val: 0.5627, Test: 0.5627\n",
      "Epoch: 094, Loss: 1.6608, Val: 0.5322, Test: 0.5322\n",
      "Epoch: 095, Loss: 1.5716, Val: 0.5220, Test: 0.5220\n",
      "Epoch: 096, Loss: 1.6813, Val: 0.5390, Test: 0.5390\n",
      "Epoch: 097, Loss: 1.6435, Val: 0.5017, Test: 0.5017\n",
      "Epoch: 098, Loss: 1.6451, Val: 0.5119, Test: 0.5119\n",
      "Epoch: 099, Loss: 1.5495, Val: 0.5593, Test: 0.5593\n",
      "Epoch: 100, Loss: 1.5947, Val: 0.5627, Test: 0.5627\n",
      "Epoch: 101, Loss: 1.6347, Val: 0.5898, Test: 0.5898\n",
      "Epoch: 102, Loss: 1.5598, Val: 0.5729, Test: 0.5729\n",
      "Epoch: 103, Loss: 1.6540, Val: 0.5831, Test: 0.5831\n",
      "Epoch: 104, Loss: 1.5834, Val: 0.5627, Test: 0.5627\n",
      "Epoch: 105, Loss: 1.6209, Val: 0.5593, Test: 0.5593\n",
      "Epoch: 106, Loss: 1.6250, Val: 0.5593, Test: 0.5593\n",
      "Epoch: 107, Loss: 1.5291, Val: 0.5797, Test: 0.5797\n",
      "Epoch: 108, Loss: 1.6029, Val: 0.5898, Test: 0.5898\n",
      "Epoch: 109, Loss: 1.4582, Val: 0.5932, Test: 0.5932\n",
      "Epoch: 110, Loss: 1.4804, Val: 0.5898, Test: 0.5898\n",
      "Epoch: 111, Loss: 1.4666, Val: 0.5729, Test: 0.5729\n",
      "Epoch: 112, Loss: 1.6028, Val: 0.5695, Test: 0.5695\n",
      "Epoch: 113, Loss: 1.4910, Val: 0.5695, Test: 0.5695\n",
      "Epoch: 114, Loss: 1.5062, Val: 0.5797, Test: 0.5797\n",
      "Epoch: 115, Loss: 1.5693, Val: 0.5966, Test: 0.5966\n",
      "Epoch: 116, Loss: 1.5034, Val: 0.6136, Test: 0.6136\n",
      "Epoch: 117, Loss: 1.5205, Val: 0.6237, Test: 0.6237\n",
      "Epoch: 118, Loss: 1.5707, Val: 0.6271, Test: 0.6271\n",
      "Epoch: 119, Loss: 1.5991, Val: 0.5966, Test: 0.5966\n",
      "Epoch: 120, Loss: 1.5510, Val: 0.5559, Test: 0.5559\n",
      "Epoch: 121, Loss: 1.5739, Val: 0.5424, Test: 0.5424\n",
      "Epoch: 122, Loss: 1.4567, Val: 0.5559, Test: 0.5559\n",
      "Epoch: 123, Loss: 1.6097, Val: 0.5559, Test: 0.5559\n",
      "Epoch: 124, Loss: 1.4755, Val: 0.5627, Test: 0.5627\n",
      "Epoch: 125, Loss: 1.5746, Val: 0.5763, Test: 0.5763\n",
      "Epoch: 126, Loss: 1.5487, Val: 0.5763, Test: 0.5763\n",
      "Epoch: 127, Loss: 1.5497, Val: 0.5797, Test: 0.5797\n",
      "Epoch: 128, Loss: 1.6407, Val: 0.5864, Test: 0.5864\n",
      "Epoch: 129, Loss: 1.5021, Val: 0.5898, Test: 0.5898\n",
      "Epoch: 130, Loss: 1.4532, Val: 0.6034, Test: 0.6034\n",
      "Epoch: 131, Loss: 1.4695, Val: 0.6102, Test: 0.6102\n",
      "Epoch: 132, Loss: 1.5175, Val: 0.6034, Test: 0.6034\n",
      "Epoch: 133, Loss: 1.4886, Val: 0.5932, Test: 0.5932\n",
      "Epoch: 134, Loss: 1.4614, Val: 0.6068, Test: 0.6068\n",
      "Epoch: 135, Loss: 1.4766, Val: 0.6068, Test: 0.6068\n",
      "Epoch: 136, Loss: 1.4604, Val: 0.5966, Test: 0.5966\n",
      "Epoch: 137, Loss: 1.4658, Val: 0.6136, Test: 0.6136\n",
      "Epoch: 138, Loss: 1.4372, Val: 0.6339, Test: 0.6339\n",
      "Epoch: 139, Loss: 1.4985, Val: 0.6475, Test: 0.6475\n",
      "Epoch: 140, Loss: 1.4514, Val: 0.6814, Test: 0.6814\n",
      "Epoch: 141, Loss: 1.4016, Val: 0.6237, Test: 0.6237\n",
      "Epoch: 142, Loss: 1.4864, Val: 0.6271, Test: 0.6271\n",
      "Epoch: 143, Loss: 1.5161, Val: 0.6373, Test: 0.6373\n",
      "Epoch: 144, Loss: 1.4050, Val: 0.6542, Test: 0.6542\n",
      "Epoch: 145, Loss: 1.4786, Val: 0.6610, Test: 0.6610\n",
      "Epoch: 146, Loss: 1.5295, Val: 0.6305, Test: 0.6305\n",
      "Epoch: 147, Loss: 1.4569, Val: 0.6339, Test: 0.6339\n",
      "Epoch: 148, Loss: 1.5741, Val: 0.6542, Test: 0.6542\n",
      "Epoch: 149, Loss: 1.4330, Val: 0.6712, Test: 0.6712\n",
      "Epoch: 150, Loss: 1.5205, Val: 0.6746, Test: 0.6746\n",
      "Epoch: 151, Loss: 1.4644, Val: 0.6712, Test: 0.6712\n",
      "Epoch: 152, Loss: 1.3525, Val: 0.6475, Test: 0.6475\n",
      "Epoch: 153, Loss: 1.3915, Val: 0.6475, Test: 0.6475\n",
      "Epoch: 154, Loss: 1.4934, Val: 0.6542, Test: 0.6542\n",
      "Epoch: 155, Loss: 1.4782, Val: 0.6847, Test: 0.6847\n",
      "Epoch: 156, Loss: 1.3847, Val: 0.6712, Test: 0.6712\n",
      "Epoch: 157, Loss: 1.4196, Val: 0.6508, Test: 0.6508\n",
      "Epoch: 158, Loss: 1.2440, Val: 0.6339, Test: 0.6339\n",
      "Epoch: 159, Loss: 1.4610, Val: 0.6407, Test: 0.6407\n",
      "Epoch: 160, Loss: 1.4230, Val: 0.6780, Test: 0.6780\n",
      "Epoch: 161, Loss: 1.4002, Val: 0.6678, Test: 0.6678\n",
      "Epoch: 162, Loss: 1.4135, Val: 0.6814, Test: 0.6814\n",
      "Epoch: 163, Loss: 1.5405, Val: 0.6576, Test: 0.6576\n",
      "Epoch: 164, Loss: 1.4940, Val: 0.6034, Test: 0.6034\n",
      "Epoch: 165, Loss: 1.5254, Val: 0.5932, Test: 0.5932\n",
      "Epoch: 166, Loss: 1.4223, Val: 0.6136, Test: 0.6136\n",
      "Epoch: 167, Loss: 1.4831, Val: 0.6644, Test: 0.6644\n",
      "Epoch: 168, Loss: 1.3808, Val: 0.6508, Test: 0.6508\n",
      "Epoch: 169, Loss: 1.4354, Val: 0.6712, Test: 0.6712\n",
      "Epoch: 170, Loss: 1.4509, Val: 0.6881, Test: 0.6881\n",
      "Epoch: 171, Loss: 1.4630, Val: 0.6746, Test: 0.6746\n",
      "Epoch: 172, Loss: 1.3520, Val: 0.6610, Test: 0.6610\n",
      "Epoch: 173, Loss: 1.4012, Val: 0.6407, Test: 0.6407\n",
      "Epoch: 174, Loss: 1.5058, Val: 0.6542, Test: 0.6542\n",
      "Epoch: 175, Loss: 1.4937, Val: 0.7051, Test: 0.7051\n",
      "Epoch: 176, Loss: 1.3725, Val: 0.7288, Test: 0.7288\n",
      "Epoch: 177, Loss: 1.4036, Val: 0.7186, Test: 0.7186\n",
      "Epoch: 178, Loss: 1.4165, Val: 0.7322, Test: 0.7322\n",
      "Epoch: 179, Loss: 1.3653, Val: 0.6983, Test: 0.6983\n",
      "Epoch: 180, Loss: 1.4526, Val: 0.6881, Test: 0.6881\n",
      "Epoch: 181, Loss: 1.3748, Val: 0.6949, Test: 0.6949\n",
      "Epoch: 182, Loss: 1.5074, Val: 0.7051, Test: 0.7051\n",
      "Epoch: 183, Loss: 1.3658, Val: 0.6983, Test: 0.6983\n",
      "Epoch: 184, Loss: 1.2991, Val: 0.6915, Test: 0.6915\n",
      "Epoch: 185, Loss: 1.3660, Val: 0.6746, Test: 0.6746\n",
      "Epoch: 186, Loss: 1.4516, Val: 0.6678, Test: 0.6678\n",
      "Epoch: 187, Loss: 1.3544, Val: 0.6644, Test: 0.6644\n",
      "Epoch: 188, Loss: 1.3391, Val: 0.6712, Test: 0.6712\n",
      "Epoch: 189, Loss: 1.4327, Val: 0.6881, Test: 0.6881\n",
      "Epoch: 190, Loss: 1.2879, Val: 0.6915, Test: 0.6915\n",
      "Epoch: 191, Loss: 1.3124, Val: 0.6949, Test: 0.6949\n",
      "Epoch: 192, Loss: 1.3398, Val: 0.7017, Test: 0.7017\n",
      "Epoch: 193, Loss: 1.3759, Val: 0.6915, Test: 0.6915\n",
      "Epoch: 194, Loss: 1.2409, Val: 0.6881, Test: 0.6881\n",
      "Epoch: 195, Loss: 1.3646, Val: 0.7085, Test: 0.7085\n",
      "Epoch: 196, Loss: 1.3726, Val: 0.7288, Test: 0.7288\n",
      "Epoch: 197, Loss: 1.4246, Val: 0.7424, Test: 0.7424\n",
      "Epoch: 198, Loss: 1.3528, Val: 0.7288, Test: 0.7288\n",
      "Epoch: 199, Loss: 1.3337, Val: 0.7220, Test: 0.7220\n",
      "Epoch: 200, Loss: 1.2454, Val: 0.7085, Test: 0.7085\n"
     ]
    }
   ],
   "source": [
    "from torch_geometric.nn import GATConv\n",
    "class GAT(torch.nn.Module):\n",
    "    def __init__(self, hidden_channels, heads):\n",
    "        super().__init__()\n",
    "        torch.manual_seed(1234567)\n",
    "        self.hid = 64\n",
    "        self.in_head = 8\n",
    "        self.out_head = 10\n",
    "        # self.conv1 = GATConv(...)  # TODO\n",
    "        # self.conv2 = GATConv(...)  # TODO\n",
    "        self.conv1 = GATConv(768, self.hid, heads=self.in_head, dropout=0.6)\n",
    "\n",
    "        self.conv2 = GATConv(self.hid*self.in_head,10,concat=False,\n",
    "                             heads=self.out_head, dropout=0.6)\n",
    "    def forward(self, x, edge_index):\n",
    "        x = F.dropout(x, p=0.6, training=self.training)\n",
    "        x = self.conv1(x, edge_index)\n",
    "        x = F.elu(x)\n",
    "        x = F.dropout(x, p=0.6, training=self.training)\n",
    "        x = self.conv2(x, edge_index)\n",
    "        return x\n",
    "\n",
    "model = GAT(hidden_channels=8, heads=8)\n",
    "print(model)\n",
    "\n",
    "optimizer = torch.optim.Adam(model.parameters(), lr=0.005, weight_decay=5e-4)\n",
    "criterion = torch.nn.CrossEntropyLoss()\n",
    "\n",
    "def train():\n",
    "      model.train()\n",
    "      optimizer.zero_grad()  # Clear gradients.\n",
    "      out = model(data.x, data.edge_index)  # Perform a single forward pass.\n",
    "      loss = criterion(out[data.train_mask], data.y[data.train_mask])  # Compute the loss solely based on the training nodes.\n",
    "      loss.backward()  # Derive gradients.\n",
    "      optimizer.step()  # Update parameters based on gradients.\n",
    "      return loss\n",
    "def test(mask):\n",
    "      model.eval()\n",
    "      out = model(data.x, data.edge_index)\n",
    "      pred = out.argmax(dim=1)  # Use the class with highest probability.\n",
    "      correct = pred[mask] == data.y[mask]  # Check against ground-truth labels.\n",
    "      acc = int(correct.sum()) / int(mask.sum())  # Derive ratio of correct predictions.\n",
    "      return acc\n",
    "for epoch in range(1,201):\n",
    "    loss = train()\n",
    "    val_acc = test(data.test_mask)\n",
    "    test_acc = test(data.test_mask)\n",
    "    print(f'Epoch: {epoch:03d}, Loss: {loss:.4f}, Val: {val_acc:.4f}, Test: {test_acc:.4f}')"
   ]
  },
  {
   "cell_type": "code",
   "execution_count": null,
   "metadata": {
    "colab": {
     "base_uri": "https://localhost:8080/"
    },
    "id": "EtFqbARskz3T",
    "outputId": "8cdbc666-efb3-4f1f-8d0d-5397a69546d1"
   },
   "outputs": [
    {
     "data": {
      "text/plain": [
       "torch.Size([5458, 32])"
      ]
     },
     "execution_count": 49,
     "metadata": {},
     "output_type": "execute_result"
    }
   ],
   "source": [
    "data.x.shape"
   ]
  },
  {
   "cell_type": "code",
   "execution_count": null,
   "metadata": {
    "colab": {
     "base_uri": "https://localhost:8080/"
    },
    "id": "02rK0KXtk4Qo",
    "outputId": "ddf90b36-42e8-4aeb-c034-d218555954d9"
   },
   "outputs": [
    {
     "data": {
      "text/plain": [
       "torch.Size([2, 23549])"
      ]
     },
     "execution_count": 47,
     "metadata": {},
     "output_type": "execute_result"
    }
   ],
   "source": [
    "data.edge_index.shape"
   ]
  },
  {
   "cell_type": "code",
   "execution_count": null,
   "metadata": {
    "colab": {
     "base_uri": "https://localhost:8080/",
     "height": 300
    },
    "id": "eEstNRyFmR6o",
    "outputId": "1b37ab13-f08e-4879-e29c-94c9f3623c07"
   },
   "outputs": [
    {
     "data": {
      "text/plain": [
       "<IPython.core.display.Javascript object>"
      ]
     },
     "metadata": {},
     "output_type": "display_data"
    },
    {
     "name": "stdout",
     "output_type": "stream",
     "text": [
      "Epoch: 001, Loss: 2.3795\n",
      "Epoch: 002, Loss: 3.5209\n",
      "Epoch: 003, Loss: 2.2605\n",
      "Epoch: 004, Loss: 2.2784\n",
      "Epoch: 005, Loss: 2.1035\n",
      "Epoch: 006, Loss: 2.0492\n",
      "Epoch: 007, Loss: 2.0816\n",
      "Epoch: 008, Loss: 2.0351\n",
      "Epoch: 009, Loss: 1.9697\n",
      "Epoch: 010, Loss: 1.9322\n",
      "Epoch: 011, Loss: 1.9191\n",
      "Epoch: 012, Loss: 1.8664\n",
      "Epoch: 013, Loss: 1.8688\n",
      "Epoch: 014, Loss: 1.8382\n",
      "Epoch: 015, Loss: 1.8297\n",
      "Epoch: 016, Loss: 1.7954\n",
      "Epoch: 017, Loss: 1.7708\n",
      "Epoch: 018, Loss: 1.7571\n",
      "Epoch: 019, Loss: 1.7694\n",
      "Epoch: 020, Loss: 1.7277\n",
      "Epoch: 021, Loss: 1.7178\n",
      "Epoch: 022, Loss: 1.7552\n",
      "Epoch: 023, Loss: 1.6762\n",
      "Epoch: 024, Loss: 1.6561\n",
      "Epoch: 025, Loss: 1.6540\n",
      "Epoch: 026, Loss: 1.6718\n",
      "Epoch: 027, Loss: 1.6450\n",
      "Epoch: 028, Loss: 1.6394\n",
      "Epoch: 029, Loss: 1.6151\n",
      "Epoch: 030, Loss: 1.5448\n",
      "Epoch: 031, Loss: 1.5682\n",
      "Epoch: 032, Loss: 1.5780\n",
      "Epoch: 033, Loss: 1.5861\n",
      "Epoch: 034, Loss: 1.5654\n",
      "Epoch: 035, Loss: 1.5310\n",
      "Epoch: 036, Loss: 1.5057\n",
      "Epoch: 037, Loss: 1.5284\n",
      "Epoch: 038, Loss: 1.4975\n",
      "Epoch: 039, Loss: 1.5249\n",
      "Epoch: 040, Loss: 1.5006\n",
      "Epoch: 041, Loss: 1.5101\n",
      "Epoch: 042, Loss: 1.5040\n",
      "Epoch: 043, Loss: 1.4201\n",
      "Epoch: 044, Loss: 1.4780\n",
      "Epoch: 045, Loss: 1.4958\n",
      "Epoch: 046, Loss: 1.4110\n",
      "Epoch: 047, Loss: 1.4036\n",
      "Epoch: 048, Loss: 1.4300\n",
      "Epoch: 049, Loss: 1.3680\n",
      "Epoch: 050, Loss: 1.3940\n",
      "Epoch: 051, Loss: 1.3641\n",
      "Epoch: 052, Loss: 1.3224\n",
      "Epoch: 053, Loss: 1.3378\n",
      "Epoch: 054, Loss: 1.3398\n",
      "Epoch: 055, Loss: 1.3440\n",
      "Epoch: 056, Loss: 1.3448\n",
      "Epoch: 057, Loss: 1.3213\n",
      "Epoch: 058, Loss: 1.2622\n",
      "Epoch: 059, Loss: 1.2910\n",
      "Epoch: 060, Loss: 1.2533\n",
      "Epoch: 061, Loss: 1.2370\n",
      "Epoch: 062, Loss: 1.2476\n",
      "Epoch: 063, Loss: 1.2164\n",
      "Epoch: 064, Loss: 1.2176\n",
      "Epoch: 065, Loss: 1.1903\n",
      "Epoch: 066, Loss: 1.1951\n",
      "Epoch: 067, Loss: 1.1995\n",
      "Epoch: 068, Loss: 1.1408\n",
      "Epoch: 069, Loss: 1.1621\n",
      "Epoch: 070, Loss: 1.1446\n",
      "Epoch: 071, Loss: 1.1829\n",
      "Epoch: 072, Loss: 1.1050\n",
      "Epoch: 073, Loss: 1.1029\n",
      "Epoch: 074, Loss: 1.0840\n",
      "Epoch: 075, Loss: 1.0764\n",
      "Epoch: 076, Loss: 1.0431\n",
      "Epoch: 077, Loss: 1.1266\n",
      "Epoch: 078, Loss: 1.1109\n",
      "Epoch: 079, Loss: 1.0286\n",
      "Epoch: 080, Loss: 1.0512\n",
      "Epoch: 081, Loss: 1.0369\n",
      "Epoch: 082, Loss: 1.0773\n",
      "Epoch: 083, Loss: 1.0189\n",
      "Epoch: 084, Loss: 0.9935\n",
      "Epoch: 085, Loss: 0.9927\n",
      "Epoch: 086, Loss: 1.0333\n",
      "Epoch: 087, Loss: 1.0479\n",
      "Epoch: 088, Loss: 0.9502\n",
      "Epoch: 089, Loss: 0.9914\n",
      "Epoch: 090, Loss: 0.9294\n",
      "Epoch: 091, Loss: 0.9946\n",
      "Epoch: 092, Loss: 0.9863\n",
      "Epoch: 093, Loss: 0.9698\n",
      "Epoch: 094, Loss: 0.9431\n",
      "Epoch: 095, Loss: 0.9282\n",
      "Epoch: 096, Loss: 0.8660\n",
      "Epoch: 097, Loss: 0.9725\n",
      "Epoch: 098, Loss: 0.8924\n",
      "Epoch: 099, Loss: 0.9172\n",
      "Epoch: 100, Loss: 0.8798\n"
     ]
    }
   ],
   "source": [
    "from IPython.display import Javascript  # Restrict height of output cell.\n",
    "display(Javascript('''google.colab.output.setIframeHeight(0, true, {maxHeight: 300})'''))\n",
    "model =SAGE(64,32)# GCN(64,32)#(32,16)#(32,16)#(64,32)#(32,16)#(64,32)#GCN\n",
    "optimizer = torch.optim.Adam(model.parameters(), lr=0.01, weight_decay=5e-4)\n",
    "criterion = torch.nn.CrossEntropyLoss()\n",
    "def train():\n",
    "      model.train()\n",
    "      optimizer.zero_grad()  # Clear gradients.\n",
    "      out = model(data.x,data.edge_index)  # Perform a single forward pass.\n",
    "      loss = criterion(out[data.train_mask], data.y[data.train_mask])  # Compute the loss solely based on the training nodes.\n",
    "      loss.backward()  # Derive gradients.\n",
    "      optimizer.step()  # Update parameters based on gradients.\n",
    "      return loss\n",
    "def test():\n",
    "      model.eval()\n",
    "      out = model(data.x, data.edge_index)\n",
    "      pred = out.argmax(dim=1)  # Use the class with highest probability.\n",
    "      test_correct = pred[data.test_mask] == data.y[data.test_mask]  # Check against ground-truth labels.\n",
    "      test_acc = int(test_correct.sum()) / int(data.test_mask.sum())  # Derive ratio of correct predictions.\n",
    "      return test_acc\n",
    "for epoch in range(1, 101):\n",
    "    loss = train()\n",
    "    print(f'Epoch: {epoch:03d}, Loss: {loss:.4f}')"
   ]
  },
  {
   "cell_type": "code",
   "execution_count": null,
   "metadata": {
    "id": "KY88XXTlTnzM"
   },
   "outputs": [],
   "source": [
    "tmp=pd.DataFrame({'Type':pred.numpy()})\n",
    "tmp.index.name = 'FID'\n",
    "tmp.to_csv('means_sage_6432.csv')#3216 6432"
   ]
  },
  {
   "cell_type": "code",
   "execution_count": null,
   "metadata": {
    "colab": {
     "base_uri": "https://localhost:8080/"
    },
    "id": "PwZDB5-xUtug",
    "outputId": "53c0046b-9478-437f-9e81-f190fb997ecd"
   },
   "outputs": [
    {
     "data": {
      "text/plain": [
       "Counter({0: 1817,\n",
       "         1: 138,\n",
       "         2: 562,\n",
       "         3: 666,\n",
       "         4: 27,\n",
       "         5: 14,\n",
       "         6: 1624,\n",
       "         7: 100,\n",
       "         8: 383,\n",
       "         9: 127})"
      ]
     },
     "execution_count": 49,
     "metadata": {},
     "output_type": "execute_result"
    }
   ],
   "source": [
    "out = model(data.x, data.edge_index)\n",
    "pred = out.argmax(dim=1)  # Use the class with highest probability.\n",
    "from collections import Counter\n",
    "result = Counter(pred.numpy().tolist())\n",
    "result"
   ]
  },
  {
   "cell_type": "markdown",
   "metadata": {
    "id": "J0oyp6VyRqcT"
   },
   "source": [
    "#### confusion matrix"
   ]
  },
  {
   "cell_type": "code",
   "execution_count": null,
   "metadata": {
    "colab": {
     "base_uri": "https://localhost:8080/",
     "height": 743
    },
    "id": "1EifVa-DNSc-",
    "outputId": "d55a46ee-c805-461f-cc7b-36e27e0d3b07"
   },
   "outputs": [
    {
     "data": {
      "text/plain": [
       "<Figure size 720x576 with 0 Axes>"
      ]
     },
     "metadata": {},
     "output_type": "display_data"
    },
    {
     "data": {
      "image/png": "[encoded data removed]",
      "text/plain": [
       "<Figure size 720x576 with 2 Axes>"
      ]
     },
     "metadata": {
      "needs_background": "light"
     },
     "output_type": "display_data"
    }
   ],
   "source": [
    "#confusion matrix\n",
    "import seaborn as sns\n",
    "import matplotlib.pyplot as plt\n",
    "df_cm=pd.DataFrame(conmatrix,\n",
    "columns=[\"Residential\",\"Business\",\"Commercial\",\"Industrial\",\"Transportation\",\"Administrative\",\"Education\",\"Medical\",\"Sports and Culture\",\"Green Space\"])#&Transport\n",
    "plt.figure(figsize=(10,8))\n",
    "f, ax= plt.subplots(figsize = (10, 8))\n",
    " \n",
    "h=sns.heatmap(df_cm,annot=True,cmap=\"binary\",fmt='.20g',ax=ax,linewidths=2,\n",
    "            annot_kws={'size':21},cbar=False)\n",
    " \n",
    "#h=sns.heatmap(data, annot=True,fmt='d',linewidths=0.5,cbar=False) #设置不使用其默认自带的colorbar\n",
    "cb=h.figure.colorbar(h.collections[0]) #显示colorbar\n",
    "cb.ax.tick_params(labelsize=24) #设置colorbar刻度字体大小。\n",
    " \n",
    "ax.set_xticklabels(ax.get_xticklabels(), rotation=90)\n",
    " \n",
    "ax.tick_params(labelsize=24)\n",
    "ax.set_yticklabels(ax.get_yticklabels(), rotation=0)\n",
    " \n",
    "plt.ylabel('Actual Result',fontsize=24)\n",
    "plt.xlabel('Forecast Result',fontsize=24)\n",
    "plt.savefig('kmeans.svg',format='svg')\n",
    "plt.show()"
   ]
  },
  {
   "cell_type": "code",
   "execution_count": null,
   "metadata": {
    "colab": {
     "base_uri": "https://localhost:8080/"
    },
    "id": "Pf73vqBRiBsB",
    "outputId": "33805963-6d77-43a3-e849-b72ef91aa57d"
   },
   "outputs": [
    {
     "data": {
      "text/plain": [
       "array([[72,  0,  1,  5,  0,  0,  4,  1,  4,  0],\n",
       "       [ 6,  3,  3,  1,  0,  0,  0,  0,  2,  0],\n",
       "       [ 3,  0, 24,  0,  0,  0,  0,  0,  2,  0],\n",
       "       [ 3,  0,  2, 29,  0,  0,  0,  0,  3,  0],\n",
       "       [ 1,  1,  0,  0,  0,  0,  0,  0,  4,  0],\n",
       "       [ 4,  0,  0,  0,  0,  0,  0,  0,  1,  1],\n",
       "       [15,  0,  1,  5,  0,  0, 43,  0,  1,  0],\n",
       "       [ 2,  0,  2,  0,  0,  0,  0,  7,  1,  0],\n",
       "       [ 3,  0,  2,  2,  0,  0,  1,  0, 20,  0],\n",
       "       [ 1,  0,  0,  0,  0,  0,  2,  0,  0,  7]])"
      ]
     },
     "execution_count": 46,
     "metadata": {},
     "output_type": "execute_result"
    }
   ],
   "source": [
    "conmatrix"
   ]
  },
  {
   "cell_type": "code",
   "execution_count": null,
   "metadata": {},
   "outputs": [],
   "source": [
    "# Install required packages.\n",
    "import os\n",
    "# Helper function for visualization.\n",
    "%matplotlib inline\n",
    "import matplotlib.pyplot as plt\n",
    "from sklearn.manifold import TSNE\n",
    "\n",
    "def visualize(h, color):\n",
    "    z = TSNE(n_components=2).fit_transform(h.detach().cpu().numpy())\n",
    "\n",
    "    plt.figure(figsize=(10,10))\n",
    "    plt.xticks([])\n",
    "    plt.yticks([])\n",
    "    \n",
    "    plt.scatter(z[:, 0], z[:, 1], s=70, c=color, cmap=\"Set2\")\n",
    "    plt.legend()\n",
    "    plt.show()\n",
    "# fig, ax = plt.subplots()\n",
    "# ax.plot(a, c, 'k--', label='Model length')\n",
    "# ax.plot(a, d, 'k:', label='Data length')\n",
    "# ax.plot(a, c + d, 'k', label='Total message length')\n",
    "# legend = ax.legend(loc='upper center', shadow=True, fontsize='x-large')\n",
    "# legend.get_frame().set_facecolor('C0')"
   ]
  },
  {
   "cell_type": "code",
   "execution_count": null,
   "metadata": {
    "id": "EzsNwjcTpmi8"
   },
   "outputs": [],
   "source": [
    "z = TSNE(n_components=2).fit_transform(out.detach().cpu().numpy())\n",
    "color=pred"
   ]
  },
  {
   "cell_type": "code",
   "execution_count": null,
   "metadata": {
    "colab": {
     "base_uri": "https://localhost:8080/",
     "height": 592
    },
    "id": "9M-3vBCoxv3F",
    "outputId": "ecbf7cbc-84ba-4407-d6cc-3f69a0908f15"
   },
   "outputs": [
    {
     "data": {
      "image/png": "[encoded data removed]",
      "text/plain": [
       "<Figure size 720x720 with 1 Axes>"
      ]
     },
     "metadata": {
      "needs_background": "light"
     },
     "output_type": "display_data"
    }
   ],
   "source": [
    "fig, ax = plt.subplots(figsize=(10,10))\n",
    "scatter = ax.scatter(z[:, 0], z[:, 1], s=50, c=color, \n",
    "                     vmin=0, vmax=9, cmap=\"tab10\")\n",
    "legend1 = ax.legend(*scatter.legend_elements(num=10),\n",
    "                    loc=\"lower left\", title=\"Types\")\n",
    "ax.add_artist(legend1)\n",
    "plt.savefig('kmeansplot.svg')\n",
    "plt.show()"
   ]
  },
  {
   "cell_type": "markdown",
   "metadata": {
    "id": "4-xpvQr1Orhx"
   },
   "source": [
    "### MLP experiment"
   ]
  },
  {
   "cell_type": "code",
   "execution_count": null,
   "metadata": {
    "colab": {
     "base_uri": "https://localhost:8080/",
     "height": 300
    },
    "id": "8kaovH3_Ouo8",
    "outputId": "61de50b0-0cca-48e2-cbba-fb0f3a3947ba"
   },
   "outputs": [
    {
     "name": "stdout",
     "output_type": "stream",
     "text": [
      "MLP(\n",
      "  (lin1): Linear(in_features=768, out_features=16, bias=True)\n",
      "  (lin2): Linear(in_features=16, out_features=10, bias=True)\n",
      ")\n"
     ]
    },
    {
     "data": {
      "text/plain": [
       "<IPython.core.display.Javascript object>"
      ]
     },
     "metadata": {},
     "output_type": "display_data"
    },
    {
     "name": "stdout",
     "output_type": "stream",
     "text": [
      "Epoch: 001, Loss: 2.3896\n",
      "Epoch: 002, Loss: 2.7254\n",
      "Epoch: 003, Loss: 2.1611\n",
      "Epoch: 004, Loss: 2.2257\n",
      "Epoch: 005, Loss: 2.1897\n",
      "Epoch: 006, Loss: 2.1338\n",
      "Epoch: 007, Loss: 2.1198\n",
      "Epoch: 008, Loss: 2.0826\n",
      "Epoch: 009, Loss: 2.0798\n",
      "Epoch: 010, Loss: 2.0246\n",
      "Epoch: 011, Loss: 2.0191\n",
      "Epoch: 012, Loss: 2.0167\n",
      "Epoch: 013, Loss: 1.9879\n",
      "Epoch: 014, Loss: 2.0134\n",
      "Epoch: 015, Loss: 2.0060\n",
      "Epoch: 016, Loss: 1.9743\n",
      "Epoch: 017, Loss: 1.9756\n",
      "Epoch: 018, Loss: 1.9654\n",
      "Epoch: 019, Loss: 1.9026\n",
      "Epoch: 020, Loss: 1.9632\n",
      "Epoch: 021, Loss: 1.9529\n",
      "Epoch: 022, Loss: 1.9136\n",
      "Epoch: 023, Loss: 1.9278\n",
      "Epoch: 024, Loss: 1.9461\n",
      "Epoch: 025, Loss: 1.8758\n",
      "Epoch: 026, Loss: 1.8851\n",
      "Epoch: 027, Loss: 1.9005\n",
      "Epoch: 028, Loss: 1.9061\n",
      "Epoch: 029, Loss: 1.8337\n",
      "Epoch: 030, Loss: 1.8816\n",
      "Epoch: 031, Loss: 1.8293\n",
      "Epoch: 032, Loss: 1.9086\n",
      "Epoch: 033, Loss: 1.8219\n",
      "Epoch: 034, Loss: 1.8252\n",
      "Epoch: 035, Loss: 1.7804\n",
      "Epoch: 036, Loss: 1.8168\n",
      "Epoch: 037, Loss: 1.8614\n",
      "Epoch: 038, Loss: 1.8250\n",
      "Epoch: 039, Loss: 1.8190\n",
      "Epoch: 040, Loss: 1.8952\n",
      "Epoch: 041, Loss: 1.8244\n",
      "Epoch: 042, Loss: 1.8651\n",
      "Epoch: 043, Loss: 1.8134\n",
      "Epoch: 044, Loss: 1.7801\n",
      "Epoch: 045, Loss: 1.8285\n",
      "Epoch: 046, Loss: 1.8463\n",
      "Epoch: 047, Loss: 1.8789\n",
      "Epoch: 048, Loss: 1.8215\n",
      "Epoch: 049, Loss: 1.8051\n",
      "Epoch: 050, Loss: 1.8814\n",
      "Epoch: 051, Loss: 1.8331\n",
      "Epoch: 052, Loss: 1.7708\n",
      "Epoch: 053, Loss: 1.7857\n",
      "Epoch: 054, Loss: 1.8056\n",
      "Epoch: 055, Loss: 1.7704\n",
      "Epoch: 056, Loss: 1.8052\n",
      "Epoch: 057, Loss: 1.7805\n",
      "Epoch: 058, Loss: 1.7555\n",
      "Epoch: 059, Loss: 1.7633\n",
      "Epoch: 060, Loss: 1.7993\n",
      "Epoch: 061, Loss: 1.8079\n",
      "Epoch: 062, Loss: 1.7920\n",
      "Epoch: 063, Loss: 1.7738\n",
      "Epoch: 064, Loss: 1.8305\n",
      "Epoch: 065, Loss: 1.7787\n",
      "Epoch: 066, Loss: 1.7341\n",
      "Epoch: 067, Loss: 1.8123\n",
      "Epoch: 068, Loss: 1.7470\n",
      "Epoch: 069, Loss: 1.7454\n",
      "Epoch: 070, Loss: 1.7550\n",
      "Epoch: 071, Loss: 1.7209\n",
      "Epoch: 072, Loss: 1.7736\n",
      "Epoch: 073, Loss: 1.7543\n",
      "Epoch: 074, Loss: 1.7657\n",
      "Epoch: 075, Loss: 1.7828\n",
      "Epoch: 076, Loss: 1.7539\n",
      "Epoch: 077, Loss: 1.7602\n",
      "Epoch: 078, Loss: 1.7276\n",
      "Epoch: 079, Loss: 1.7048\n",
      "Epoch: 080, Loss: 1.7197\n",
      "Epoch: 081, Loss: 1.7085\n",
      "Epoch: 082, Loss: 1.6904\n",
      "Epoch: 083, Loss: 1.7263\n",
      "Epoch: 084, Loss: 1.6976\n",
      "Epoch: 085, Loss: 1.7540\n",
      "Epoch: 086, Loss: 1.7290\n",
      "Epoch: 087, Loss: 1.7014\n",
      "Epoch: 088, Loss: 1.6987\n",
      "Epoch: 089, Loss: 1.7474\n",
      "Epoch: 090, Loss: 1.7575\n",
      "Epoch: 091, Loss: 1.7245\n",
      "Epoch: 092, Loss: 1.7516\n",
      "Epoch: 093, Loss: 1.7075\n",
      "Epoch: 094, Loss: 1.6975\n",
      "Epoch: 095, Loss: 1.6881\n",
      "Epoch: 096, Loss: 1.6853\n",
      "Epoch: 097, Loss: 1.7096\n",
      "Epoch: 098, Loss: 1.6621\n",
      "Epoch: 099, Loss: 1.6816\n",
      "Epoch: 100, Loss: 1.7093\n",
      "Epoch: 101, Loss: 1.7352\n",
      "Epoch: 102, Loss: 1.6912\n",
      "Epoch: 103, Loss: 1.6812\n",
      "Epoch: 104, Loss: 1.7057\n",
      "Epoch: 105, Loss: 1.6912\n",
      "Epoch: 106, Loss: 1.7123\n",
      "Epoch: 107, Loss: 1.7089\n",
      "Epoch: 108, Loss: 1.7045\n",
      "Epoch: 109, Loss: 1.7014\n",
      "Epoch: 110, Loss: 1.7048\n",
      "Epoch: 111, Loss: 1.6917\n",
      "Epoch: 112, Loss: 1.6463\n",
      "Epoch: 113, Loss: 1.7036\n",
      "Epoch: 114, Loss: 1.6983\n",
      "Epoch: 115, Loss: 1.6876\n",
      "Epoch: 116, Loss: 1.7029\n",
      "Epoch: 117, Loss: 1.6810\n",
      "Epoch: 118, Loss: 1.6908\n",
      "Epoch: 119, Loss: 1.6715\n",
      "Epoch: 120, Loss: 1.6844\n",
      "Epoch: 121, Loss: 1.6846\n",
      "Epoch: 122, Loss: 1.6428\n",
      "Epoch: 123, Loss: 1.6470\n",
      "Epoch: 124, Loss: 1.6806\n",
      "Epoch: 125, Loss: 1.6248\n",
      "Epoch: 126, Loss: 1.6702\n",
      "Epoch: 127, Loss: 1.7162\n",
      "Epoch: 128, Loss: 1.6620\n",
      "Epoch: 129, Loss: 1.6532\n",
      "Epoch: 130, Loss: 1.6620\n",
      "Epoch: 131, Loss: 1.6532\n",
      "Epoch: 132, Loss: 1.6471\n",
      "Epoch: 133, Loss: 1.6305\n",
      "Epoch: 134, Loss: 1.6302\n",
      "Epoch: 135, Loss: 1.6229\n",
      "Epoch: 136, Loss: 1.6917\n",
      "Epoch: 137, Loss: 1.6346\n",
      "Epoch: 138, Loss: 1.6496\n",
      "Epoch: 139, Loss: 1.6998\n",
      "Epoch: 140, Loss: 1.6880\n",
      "Epoch: 141, Loss: 1.6105\n",
      "Epoch: 142, Loss: 1.6698\n",
      "Epoch: 143, Loss: 1.5960\n",
      "Epoch: 144, Loss: 1.6310\n",
      "Epoch: 145, Loss: 1.5813\n",
      "Epoch: 146, Loss: 1.6114\n",
      "Epoch: 147, Loss: 1.6269\n",
      "Epoch: 148, Loss: 1.6060\n",
      "Epoch: 149, Loss: 1.6432\n",
      "Epoch: 150, Loss: 1.6261\n",
      "Epoch: 151, Loss: 1.5689\n",
      "Epoch: 152, Loss: 1.5943\n",
      "Epoch: 153, Loss: 1.6225\n",
      "Epoch: 154, Loss: 1.6041\n",
      "Epoch: 155, Loss: 1.5836\n",
      "Epoch: 156, Loss: 1.6436\n",
      "Epoch: 157, Loss: 1.6470\n",
      "Epoch: 158, Loss: 1.6173\n",
      "Epoch: 159, Loss: 1.6101\n",
      "Epoch: 160, Loss: 1.6131\n",
      "Epoch: 161, Loss: 1.6110\n",
      "Epoch: 162, Loss: 1.6026\n",
      "Epoch: 163, Loss: 1.6345\n",
      "Epoch: 164, Loss: 1.6088\n",
      "Epoch: 165, Loss: 1.5744\n",
      "Epoch: 166, Loss: 1.6036\n",
      "Epoch: 167, Loss: 1.5909\n",
      "Epoch: 168, Loss: 1.6283\n",
      "Epoch: 169, Loss: 1.6177\n",
      "Epoch: 170, Loss: 1.5731\n",
      "Epoch: 171, Loss: 1.6761\n",
      "Epoch: 172, Loss: 1.6146\n",
      "Epoch: 173, Loss: 1.6176\n",
      "Epoch: 174, Loss: 1.6171\n",
      "Epoch: 175, Loss: 1.5639\n",
      "Epoch: 176, Loss: 1.6105\n",
      "Epoch: 177, Loss: 1.6814\n",
      "Epoch: 178, Loss: 1.6245\n",
      "Epoch: 179, Loss: 1.5790\n",
      "Epoch: 180, Loss: 1.5734\n",
      "Epoch: 181, Loss: 1.6066\n",
      "Epoch: 182, Loss: 1.6127\n",
      "Epoch: 183, Loss: 1.5797\n",
      "Epoch: 184, Loss: 1.6017\n",
      "Epoch: 185, Loss: 1.6189\n",
      "Epoch: 186, Loss: 1.5764\n",
      "Epoch: 187, Loss: 1.5743\n",
      "Epoch: 188, Loss: 1.5836\n",
      "Epoch: 189, Loss: 1.5912\n",
      "Epoch: 190, Loss: 1.5458\n",
      "Epoch: 191, Loss: 1.5943\n",
      "Epoch: 192, Loss: 1.5788\n",
      "Epoch: 193, Loss: 1.6182\n",
      "Epoch: 194, Loss: 1.6094\n",
      "Epoch: 195, Loss: 1.5314\n",
      "Epoch: 196, Loss: 1.5932\n",
      "Epoch: 197, Loss: 1.5930\n",
      "Epoch: 198, Loss: 1.6076\n",
      "Epoch: 199, Loss: 1.6147\n",
      "Epoch: 200, Loss: 1.5628\n",
      "Test Accuracy: 0.4644\n"
     ]
    }
   ],
   "source": [
    "import torch\n",
    "from torch.nn import Linear\n",
    "import torch.nn.functional as F\n",
    "\n",
    "\n",
    "class MLP(torch.nn.Module):\n",
    "    def __init__(self, hidden_channels):\n",
    "        super().__init__()\n",
    "        torch.manual_seed(12345)\n",
    "        self.lin1 = Linear(768, hidden_channels)\n",
    "        self.lin2 = Linear(hidden_channels, 10)\n",
    "\n",
    "    def forward(self, x):\n",
    "        x = self.lin1(x)\n",
    "        x = x.relu()\n",
    "        x = F.dropout(x, p=0.5, training=self.training)\n",
    "        x = self.lin2(x)\n",
    "        return x\n",
    "\n",
    "model = MLP(hidden_channels=16)\n",
    "print(model)\n",
    "from IPython.display import Javascript  # Restrict height of output cell.\n",
    "display(Javascript('''google.colab.output.setIframeHeight(0, true, {maxHeight: 300})'''))\n",
    "\n",
    "model = MLP(hidden_channels=16)\n",
    "criterion = torch.nn.CrossEntropyLoss()  # Define loss criterion.\n",
    "optimizer = torch.optim.Adam(model.parameters(), lr=0.01, weight_decay=5e-4)  # Define optimizer.\n",
    "\n",
    "def train():\n",
    "      model.train()\n",
    "      optimizer.zero_grad()  # Clear gradients.\n",
    "      out = model(data.x)  # Perform a single forward pass.\n",
    "      loss = criterion(out[data.train_mask], data.y[data.train_mask])  # Compute the loss solely based on the training nodes.\n",
    "      loss.backward()  # Derive gradients.\n",
    "      optimizer.step()  # Update parameters based on gradients.\n",
    "      return loss\n",
    "\n",
    "def test():\n",
    "      model.eval()\n",
    "      out = model(data.x)\n",
    "      pred = out.argmax(dim=1)  # Use the class with highest probability.\n",
    "      test_correct = pred[data.test_mask] == data.y[data.test_mask]  # Check against ground-truth labels.\n",
    "      test_acc = int(test_correct.sum()) / int(data.test_mask.sum())  # Derive ratio of correct predictions.\n",
    "      return test_acc\n",
    "\n",
    "for epoch in range(1, 201):\n",
    "    loss = train()\n",
    "    print(f'Epoch: {epoch:03d}, Loss: {loss:.4f}')\n",
    "test_acc = test()\n",
    "print(f'Test Accuracy: {test_acc:.4f}')"
   ]
  },
  {
   "cell_type": "code",
   "execution_count": null,
   "metadata": {
    "id": "mVxHRNJk1cGa"
   },
   "outputs": [],
   "source": [
    "out = model(data.x)\n",
    "pred = out.argmax(dim=1)\n",
    "pd.DataFrame({'Type':pred.numpy()}).to_csv('MLP.csv')#3216"
   ]
  },
  {
   "cell_type": "code",
   "execution_count": null,
   "metadata": {
    "colab": {
     "base_uri": "https://localhost:8080/"
    },
    "id": "klvJicoXs-H4",
    "outputId": "928be1a1-1d7d-40a0-8015-cc818f16415d"
   },
   "outputs": [
    {
     "name": "stderr",
     "output_type": "stream",
     "text": [
      "/usr/local/lib/python3.7/dist-packages/sklearn/manifold/_t_sne.py:783: FutureWarning: The default initialization in TSNE will change from 'random' to 'pca' in 1.2.\n",
      "  FutureWarning,\n",
      "/usr/local/lib/python3.7/dist-packages/sklearn/manifold/_t_sne.py:793: FutureWarning: The default learning rate in TSNE will change from 200.0 to 'auto' in 1.2.\n",
      "  FutureWarning,\n"
     ]
    }
   ],
   "source": [
    "z = TSNE(n_components=2).fit_transform(out.detach().cpu().numpy())\n",
    "color=pred"
   ]
  },
  {
   "cell_type": "code",
   "execution_count": null,
   "metadata": {
    "id": "YkOwmpRD23NV"
   },
   "outputs": [],
   "source": [
    "pd.DataFrame({'1':color.numpy()}).to_csv('1.csv')"
   ]
  },
  {
   "cell_type": "code",
   "execution_count": null,
   "metadata": {
    "colab": {
     "base_uri": "https://localhost:8080/",
     "height": 593
    },
    "id": "vNonG7hJ03ka",
    "outputId": "86c1e8c6-79fc-4a20-fa98-7cddf7b25312"
   },
   "outputs": [
    {
     "data": {
      "image/png": "[encoded data removed]",
      "text/plain": [
       "<Figure size 720x720 with 1 Axes>"
      ]
     },
     "metadata": {
      "needs_background": "light"
     },
     "output_type": "display_data"
    }
   ],
   "source": [
    "fig, ax = plt.subplots(figsize=(10,10))\n",
    "scatter = ax.scatter(z[:, 0], z[:, 1], s=50, c=color, \n",
    "                     vmin=0, vmax=9, cmap=\"tab10\")\n",
    "# legend1 = ax.legend(*scatter.legend_elements(num=10),loc=\"upper left\", title=\"Types\")\n",
    "# ax.add_artist(legend1)\n",
    "plt.savefig('restab10.svg')\n",
    "plt.show()"
   ]
  },
  {
   "cell_type": "code",
   "execution_count": null,
   "metadata": {
    "colab": {
     "base_uri": "https://localhost:8080/",
     "height": 744
    },
    "id": "Sf5OR9re1M_A",
    "outputId": "fa2b22b9-3d51-4752-f012-cf814a159821"
   },
   "outputs": [
    {
     "data": {
      "text/plain": [
       "<Figure size 720x576 with 0 Axes>"
      ]
     },
     "metadata": {},
     "output_type": "display_data"
    },
    {
     "data": {
      "image/png": "[encoded data removed]",
      "text/plain": [
       "<Figure size 720x576 with 2 Axes>"
      ]
     },
     "metadata": {
      "needs_background": "light"
     },
     "output_type": "display_data"
    }
   ],
   "source": [
    "#plot confusion matrix\n",
    "from sklearn.metrics import confusion_matrix\n",
    "conmatrix=confusion_matrix(data.y[data.test_mask], pred[data.test_mask])\n",
    "import seaborn as sns\n",
    "import matplotlib.pyplot as plt\n",
    "df_cm=pd.DataFrame(conmatrix,\n",
    "columns=[\"Residential\",\"Business\",\"Commercial\",\"Industrial\",\"Transportation\",\"Administrative\",\"Education\",\"Medical\",\"Sports and Culture\",\"Green Space\"])#&Transport\n",
    "plt.figure(figsize=(10,8))\n",
    "f, ax= plt.subplots(figsize = (10, 8))\n",
    " \n",
    "h=sns.heatmap(df_cm,annot=True,cmap=\"binary\",fmt='.20g',ax=ax,linewidths=2,\n",
    "            annot_kws={'size':21},cbar=False)\n",
    " \n",
    "#h=sns.heatmap(data, annot=True,fmt='d',linewidths=0.5,cbar=False) #设置不使用其默认自带的colorbar\n",
    "cb=h.figure.colorbar(h.collections[0]) #显示colorbar\n",
    "cb.ax.tick_params(labelsize=24) #设置colorbar刻度字体大小。\n",
    " \n",
    "ax.set_xticklabels(ax.get_xticklabels(), rotation=90)\n",
    " \n",
    "ax.tick_params(labelsize=24)\n",
    "ax.set_yticklabels(ax.get_yticklabels(), rotation=0)\n",
    " \n",
    "plt.ylabel('Actual Result',fontsize=24)\n",
    "plt.xlabel('Forecast Result',fontsize=24)\n",
    "plt.savefig('cnn.svg',format='svg')\n",
    "plt.show()"
   ]
  }
 ],
 "metadata": {
  "colab": {
   "collapsed_sections": [],
   "provenance": [],
   "toc_visible": true
  },
  "gpuClass": "standard",
  "kernelspec": {
   "display_name": "Python 3.8.8 ('base')",
   "language": "python",
   "name": "python3"
  },
  "language_info": {
   "name": "python",
   "version": "3.8.8"
  },
  "vscode": {
   "interpreter": {
    "hash": "ad2bdc8ecc057115af97d19610ffacc2b4e99fae6737bb82f5d7fb13d2f2c186"
   }
  },
  "widgets": {
   "application/vnd.jupyter.widget-state+json": {
    "023d5ffbf2d64981a2e65e555404d19f": {
     "model_module": "@jupyter-widgets/controls",
     "model_module_version": "1.5.0",
     "model_name": "DescriptionStyleModel",
     "state": {
      "_model_module": "@jupyter-widgets/controls",
      "_model_module_version": "1.5.0",
      "_model_name": "DescriptionStyleModel",
      "_view_count": null,
      "_view_module": "@jupyter-widgets/base",
      "_view_module_version": "1.2.0",
      "_view_name": "StyleView",
      "description_width": ""
     }
    },
    "05dad33f3c184fe4a0618eb46c6b820b": {
     "model_module": "@jupyter-widgets/base",
     "model_module_version": "1.2.0",
     "model_name": "LayoutModel",
     "state": {
      "_model_module": "@jupyter-widgets/base",
      "_model_module_version": "1.2.0",
      "_model_name": "LayoutModel",
      "_view_count": null,
      "_view_module": "@jupyter-widgets/base",
      "_view_module_version": "1.2.0",
      "_view_name": "LayoutView",
      "align_content": null,
      "align_items": null,
      "align_self": null,
      "border": null,
      "bottom": null,
      "display": null,
      "flex": null,
      "flex_flow": null,
      "grid_area": null,
      "grid_auto_columns": null,
      "grid_auto_flow": null,
      "grid_auto_rows": null,
      "grid_column": null,
      "grid_gap": null,
      "grid_row": null,
      "grid_template_areas": null,
      "grid_template_columns": null,
      "grid_template_rows": null,
      "height": null,
      "justify_content": null,
      "justify_items": null,
      "left": null,
      "margin": null,
      "max_height": null,
      "max_width": null,
      "min_height": null,
      "min_width": null,
      "object_fit": null,
      "object_position": null,
      "order": null,
      "overflow": null,
      "overflow_x": null,
      "overflow_y": null,
      "padding": null,
      "right": null,
      "top": null,
      "visibility": null,
      "width": null
     }
    },
    "0b4ff9256e624d69b099d6357978f873": {
     "model_module": "@jupyter-widgets/controls",
     "model_module_version": "1.5.0",
     "model_name": "HTMLModel",
     "state": {
      "_dom_classes": [],
      "_model_module": "@jupyter-widgets/controls",
      "_model_module_version": "1.5.0",
      "_model_name": "HTMLModel",
      "_view_count": null,
      "_view_module": "@jupyter-widgets/controls",
      "_view_module_version": "1.5.0",
      "_view_name": "HTMLView",
      "description": "",
      "description_tooltip": null,
      "layout": "IPY_MODEL_334b5cd225794e1aa91dd6a165e910c4",
      "placeholder": "​",
      "style": "IPY_MODEL_f52805bb48bf4f84a278760ce70b2670",
      "value": "Downloading: 100%"
     }
    },
    "0c2cfc32469645fab87cb76f6ec59344": {
     "model_module": "@jupyter-widgets/controls",
     "model_module_version": "1.5.0",
     "model_name": "DescriptionStyleModel",
     "state": {
      "_model_module": "@jupyter-widgets/controls",
      "_model_module_version": "1.5.0",
      "_model_name": "DescriptionStyleModel",
      "_view_count": null,
      "_view_module": "@jupyter-widgets/base",
      "_view_module_version": "1.2.0",
      "_view_name": "StyleView",
      "description_width": ""
     }
    },
    "0dedb6fd7d224ea28df67fc449f09971": {
     "model_module": "@jupyter-widgets/controls",
     "model_module_version": "1.5.0",
     "model_name": "FloatProgressModel",
     "state": {
      "_dom_classes": [],
      "_model_module": "@jupyter-widgets/controls",
      "_model_module_version": "1.5.0",
      "_model_name": "FloatProgressModel",
      "_view_count": null,
      "_view_module": "@jupyter-widgets/controls",
      "_view_module_version": "1.5.0",
      "_view_name": "ProgressView",
      "bar_style": "success",
      "description": "",
      "description_tooltip": null,
      "layout": "IPY_MODEL_74bf8e52cdcc4bb8a337fb3d5615ce27",
      "max": 898822,
      "min": 0,
      "orientation": "horizontal",
      "style": "IPY_MODEL_614a20c3b78740dfb3ea58a068377650",
      "value": 898822
     }
    },
    "0e0a94135f0a4b8a92d33553ab2d5858": {
     "model_module": "@jupyter-widgets/controls",
     "model_module_version": "1.5.0",
     "model_name": "HTMLModel",
     "state": {
      "_dom_classes": [],
      "_model_module": "@jupyter-widgets/controls",
      "_model_module_version": "1.5.0",
      "_model_name": "HTMLModel",
      "_view_count": null,
      "_view_module": "@jupyter-widgets/controls",
      "_view_module_version": "1.5.0",
      "_view_name": "HTMLView",
      "description": "",
      "description_tooltip": null,
      "layout": "IPY_MODEL_633f3fa4f428449cb7a2e870d38e6aa3",
      "placeholder": "​",
      "style": "IPY_MODEL_78a043fedbc745b490400c8d186228b1",
      "value": " 26.0/26.0 [00:00&lt;00:00, 578B/s]"
     }
    },
    "0f659030efc2431d9e06f4063d9da11c": {
     "model_module": "@jupyter-widgets/controls",
     "model_module_version": "1.5.0",
     "model_name": "HTMLModel",
     "state": {
      "_dom_classes": [],
      "_model_module": "@jupyter-widgets/controls",
      "_model_module_version": "1.5.0",
      "_model_name": "HTMLModel",
      "_view_count": null,
      "_view_module": "@jupyter-widgets/controls",
      "_view_module_version": "1.5.0",
      "_view_name": "HTMLView",
      "description": "",
      "description_tooltip": null,
      "layout": "IPY_MODEL_05dad33f3c184fe4a0618eb46c6b820b",
      "placeholder": "​",
      "style": "IPY_MODEL_2728cfdde971425885055a9bc79bb0dc",
      "value": "Downloading: 100%"
     }
    },
    "10ae21f4cfe6479a891e219fd35588dc": {
     "model_module": "@jupyter-widgets/base",
     "model_module_version": "1.2.0",
     "model_name": "LayoutModel",
     "state": {
      "_model_module": "@jupyter-widgets/base",
      "_model_module_version": "1.2.0",
      "_model_name": "LayoutModel",
      "_view_count": null,
      "_view_module": "@jupyter-widgets/base",
      "_view_module_version": "1.2.0",
      "_view_name": "LayoutView",
      "align_content": null,
      "align_items": null,
      "align_self": null,
      "border": null,
      "bottom": null,
      "display": null,
      "flex": null,
      "flex_flow": null,
      "grid_area": null,
      "grid_auto_columns": null,
      "grid_auto_flow": null,
      "grid_auto_rows": null,
      "grid_column": null,
      "grid_gap": null,
      "grid_row": null,
      "grid_template_areas": null,
      "grid_template_columns": null,
      "grid_template_rows": null,
      "height": null,
      "justify_content": null,
      "justify_items": null,
      "left": null,
      "margin": null,
      "max_height": null,
      "max_width": null,
      "min_height": null,
      "min_width": null,
      "object_fit": null,
      "object_position": null,
      "order": null,
      "overflow": null,
      "overflow_x": null,
      "overflow_y": null,
      "padding": null,
      "right": null,
      "top": null,
      "visibility": null,
      "width": null
     }
    },
    "1534092460c7474f9a1022d7ff5ce235": {
     "model_module": "@jupyter-widgets/controls",
     "model_module_version": "1.5.0",
     "model_name": "HBoxModel",
     "state": {
      "_dom_classes": [],
      "_model_module": "@jupyter-widgets/controls",
      "_model_module_version": "1.5.0",
      "_model_name": "HBoxModel",
      "_view_count": null,
      "_view_module": "@jupyter-widgets/controls",
      "_view_module_version": "1.5.0",
      "_view_name": "HBoxView",
      "box_style": "",
      "children": [
       "IPY_MODEL_0b4ff9256e624d69b099d6357978f873",
       "IPY_MODEL_1aa13911565d4e71af4e18c025f74a4c",
       "IPY_MODEL_b6ef73b406e44d89a02d863ee72778cd"
      ],
      "layout": "IPY_MODEL_7499d4e0e32c427ca2703ab0b17369e9"
     }
    },
    "18b492a4fd4541e48921ca4a3b89a5ce": {
     "model_module": "@jupyter-widgets/controls",
     "model_module_version": "1.5.0",
     "model_name": "DescriptionStyleModel",
     "state": {
      "_model_module": "@jupyter-widgets/controls",
      "_model_module_version": "1.5.0",
      "_model_name": "DescriptionStyleModel",
      "_view_count": null,
      "_view_module": "@jupyter-widgets/base",
      "_view_module_version": "1.2.0",
      "_view_name": "StyleView",
      "description_width": ""
     }
    },
    "1aa13911565d4e71af4e18c025f74a4c": {
     "model_module": "@jupyter-widgets/controls",
     "model_module_version": "1.5.0",
     "model_name": "FloatProgressModel",
     "state": {
      "_dom_classes": [],
      "_model_module": "@jupyter-widgets/controls",
      "_model_module_version": "1.5.0",
      "_model_name": "FloatProgressModel",
      "_view_count": null,
      "_view_module": "@jupyter-widgets/controls",
      "_view_module_version": "1.5.0",
      "_view_name": "ProgressView",
      "bar_style": "success",
      "description": "",
      "description_tooltip": null,
      "layout": "IPY_MODEL_9ac4c151a8b040ffb06a8a2284520602",
      "max": 1018571383,
      "min": 0,
      "orientation": "horizontal",
      "style": "IPY_MODEL_356de07fcd634291a60d3abe64ff3e54",
      "value": 1018571383
     }
    },
    "2728cfdde971425885055a9bc79bb0dc": {
     "model_module": "@jupyter-widgets/controls",
     "model_module_version": "1.5.0",
     "model_name": "DescriptionStyleModel",
     "state": {
      "_model_module": "@jupyter-widgets/controls",
      "_model_module_version": "1.5.0",
      "_model_name": "DescriptionStyleModel",
      "_view_count": null,
      "_view_module": "@jupyter-widgets/base",
      "_view_module_version": "1.2.0",
      "_view_name": "StyleView",
      "description_width": ""
     }
    },
    "2c6081056c83408eb739957da2f431dd": {
     "model_module": "@jupyter-widgets/base",
     "model_module_version": "1.2.0",
     "model_name": "LayoutModel",
     "state": {
      "_model_module": "@jupyter-widgets/base",
      "_model_module_version": "1.2.0",
      "_model_name": "LayoutModel",
      "_view_count": null,
      "_view_module": "@jupyter-widgets/base",
      "_view_module_version": "1.2.0",
      "_view_name": "LayoutView",
      "align_content": null,
      "align_items": null,
      "align_self": null,
      "border": null,
      "bottom": null,
      "display": null,
      "flex": null,
      "flex_flow": null,
      "grid_area": null,
      "grid_auto_columns": null,
      "grid_auto_flow": null,
      "grid_auto_rows": null,
      "grid_column": null,
      "grid_gap": null,
      "grid_row": null,
      "grid_template_areas": null,
      "grid_template_columns": null,
      "grid_template_rows": null,
      "height": null,
      "justify_content": null,
      "justify_items": null,
      "left": null,
      "margin": null,
      "max_height": null,
      "max_width": null,
      "min_height": null,
      "min_width": null,
      "object_fit": null,
      "object_position": null,
      "order": null,
      "overflow": null,
      "overflow_x": null,
      "overflow_y": null,
      "padding": null,
      "right": null,
      "top": null,
      "visibility": null,
      "width": null
     }
    },
    "2edc6e5c54424faf99592b2cff3c9d62": {
     "model_module": "@jupyter-widgets/base",
     "model_module_version": "1.2.0",
     "model_name": "LayoutModel",
     "state": {
      "_model_module": "@jupyter-widgets/base",
      "_model_module_version": "1.2.0",
      "_model_name": "LayoutModel",
      "_view_count": null,
      "_view_module": "@jupyter-widgets/base",
      "_view_module_version": "1.2.0",
      "_view_name": "LayoutView",
      "align_content": null,
      "align_items": null,
      "align_self": null,
      "border": null,
      "bottom": null,
      "display": null,
      "flex": null,
      "flex_flow": null,
      "grid_area": null,
      "grid_auto_columns": null,
      "grid_auto_flow": null,
      "grid_auto_rows": null,
      "grid_column": null,
      "grid_gap": null,
      "grid_row": null,
      "grid_template_areas": null,
      "grid_template_columns": null,
      "grid_template_rows": null,
      "height": null,
      "justify_content": null,
      "justify_items": null,
      "left": null,
      "margin": null,
      "max_height": null,
      "max_width": null,
      "min_height": null,
      "min_width": null,
      "object_fit": null,
      "object_position": null,
      "order": null,
      "overflow": null,
      "overflow_x": null,
      "overflow_y": null,
      "padding": null,
      "right": null,
      "top": null,
      "visibility": null,
      "width": null
     }
    },
    "31940852601343c595fb14d71e29cb03": {
     "model_module": "@jupyter-widgets/controls",
     "model_module_version": "1.5.0",
     "model_name": "ProgressStyleModel",
     "state": {
      "_model_module": "@jupyter-widgets/controls",
      "_model_module_version": "1.5.0",
      "_model_name": "ProgressStyleModel",
      "_view_count": null,
      "_view_module": "@jupyter-widgets/base",
      "_view_module_version": "1.2.0",
      "_view_name": "StyleView",
      "bar_color": null,
      "description_width": ""
     }
    },
    "334b5cd225794e1aa91dd6a165e910c4": {
     "model_module": "@jupyter-widgets/base",
     "model_module_version": "1.2.0",
     "model_name": "LayoutModel",
     "state": {
      "_model_module": "@jupyter-widgets/base",
      "_model_module_version": "1.2.0",
      "_model_name": "LayoutModel",
      "_view_count": null,
      "_view_module": "@jupyter-widgets/base",
      "_view_module_version": "1.2.0",
      "_view_name": "LayoutView",
      "align_content": null,
      "align_items": null,
      "align_self": null,
      "border": null,
      "bottom": null,
      "display": null,
      "flex": null,
      "flex_flow": null,
      "grid_area": null,
      "grid_auto_columns": null,
      "grid_auto_flow": null,
      "grid_auto_rows": null,
      "grid_column": null,
      "grid_gap": null,
      "grid_row": null,
      "grid_template_areas": null,
      "grid_template_columns": null,
      "grid_template_rows": null,
      "height": null,
      "justify_content": null,
      "justify_items": null,
      "left": null,
      "margin": null,
      "max_height": null,
      "max_width": null,
      "min_height": null,
      "min_width": null,
      "object_fit": null,
      "object_position": null,
      "order": null,
      "overflow": null,
      "overflow_x": null,
      "overflow_y": null,
      "padding": null,
      "right": null,
      "top": null,
      "visibility": null,
      "width": null
     }
    },
    "3368b6f363ab4883a33c07f97faf5285": {
     "model_module": "@jupyter-widgets/base",
     "model_module_version": "1.2.0",
     "model_name": "LayoutModel",
     "state": {
      "_model_module": "@jupyter-widgets/base",
      "_model_module_version": "1.2.0",
      "_model_name": "LayoutModel",
      "_view_count": null,
      "_view_module": "@jupyter-widgets/base",
      "_view_module_version": "1.2.0",
      "_view_name": "LayoutView",
      "align_content": null,
      "align_items": null,
      "align_self": null,
      "border": null,
      "bottom": null,
      "display": null,
      "flex": null,
      "flex_flow": null,
      "grid_area": null,
      "grid_auto_columns": null,
      "grid_auto_flow": null,
      "grid_auto_rows": null,
      "grid_column": null,
      "grid_gap": null,
      "grid_row": null,
      "grid_template_areas": null,
      "grid_template_columns": null,
      "grid_template_rows": null,
      "height": null,
      "justify_content": null,
      "justify_items": null,
      "left": null,
      "margin": null,
      "max_height": null,
      "max_width": null,
      "min_height": null,
      "min_width": null,
      "object_fit": null,
      "object_position": null,
      "order": null,
      "overflow": null,
      "overflow_x": null,
      "overflow_y": null,
      "padding": null,
      "right": null,
      "top": null,
      "visibility": null,
      "width": null
     }
    },
    "356de07fcd634291a60d3abe64ff3e54": {
     "model_module": "@jupyter-widgets/controls",
     "model_module_version": "1.5.0",
     "model_name": "ProgressStyleModel",
     "state": {
      "_model_module": "@jupyter-widgets/controls",
      "_model_module_version": "1.5.0",
      "_model_name": "ProgressStyleModel",
      "_view_count": null,
      "_view_module": "@jupyter-widgets/base",
      "_view_module_version": "1.2.0",
      "_view_name": "StyleView",
      "bar_color": null,
      "description_width": ""
     }
    },
    "4080753ad66346b3bf587f4e61c716f4": {
     "model_module": "@jupyter-widgets/controls",
     "model_module_version": "1.5.0",
     "model_name": "HBoxModel",
     "state": {
      "_dom_classes": [],
      "_model_module": "@jupyter-widgets/controls",
      "_model_module_version": "1.5.0",
      "_model_name": "HBoxModel",
      "_view_count": null,
      "_view_module": "@jupyter-widgets/controls",
      "_view_module_version": "1.5.0",
      "_view_name": "HBoxView",
      "box_style": "",
      "children": [
       "IPY_MODEL_e8d23af4a2294bc09b13e6c4c81fe7d5",
       "IPY_MODEL_5957951df6f242c1b61274a3e49fa3f9",
       "IPY_MODEL_8db603033422408e8f53f8c4b51cd2f4"
      ],
      "layout": "IPY_MODEL_6d40bb529b0f4dbbab52f1f4647626f5"
     }
    },
    "46bc410fefb040f3893673dfc70d42ba": {
     "model_module": "@jupyter-widgets/controls",
     "model_module_version": "1.5.0",
     "model_name": "ProgressStyleModel",
     "state": {
      "_model_module": "@jupyter-widgets/controls",
      "_model_module_version": "1.5.0",
      "_model_name": "ProgressStyleModel",
      "_view_count": null,
      "_view_module": "@jupyter-widgets/base",
      "_view_module_version": "1.2.0",
      "_view_name": "StyleView",
      "bar_color": null,
      "description_width": ""
     }
    },
    "4726cbc924734436bc4e9141de12cadb": {
     "model_module": "@jupyter-widgets/base",
     "model_module_version": "1.2.0",
     "model_name": "LayoutModel",
     "state": {
      "_model_module": "@jupyter-widgets/base",
      "_model_module_version": "1.2.0",
      "_model_name": "LayoutModel",
      "_view_count": null,
      "_view_module": "@jupyter-widgets/base",
      "_view_module_version": "1.2.0",
      "_view_name": "LayoutView",
      "align_content": null,
      "align_items": null,
      "align_self": null,
      "border": null,
      "bottom": null,
      "display": null,
      "flex": null,
      "flex_flow": null,
      "grid_area": null,
      "grid_auto_columns": null,
      "grid_auto_flow": null,
      "grid_auto_rows": null,
      "grid_column": null,
      "grid_gap": null,
      "grid_row": null,
      "grid_template_areas": null,
      "grid_template_columns": null,
      "grid_template_rows": null,
      "height": null,
      "justify_content": null,
      "justify_items": null,
      "left": null,
      "margin": null,
      "max_height": null,
      "max_width": null,
      "min_height": null,
      "min_width": null,
      "object_fit": null,
      "object_position": null,
      "order": null,
      "overflow": null,
      "overflow_x": null,
      "overflow_y": null,
      "padding": null,
      "right": null,
      "top": null,
      "visibility": null,
      "width": null
     }
    },
    "490a77afcfdd42d4b521faa49c56686c": {
     "model_module": "@jupyter-widgets/controls",
     "model_module_version": "1.5.0",
     "model_name": "DescriptionStyleModel",
     "state": {
      "_model_module": "@jupyter-widgets/controls",
      "_model_module_version": "1.5.0",
      "_model_name": "DescriptionStyleModel",
      "_view_count": null,
      "_view_module": "@jupyter-widgets/base",
      "_view_module_version": "1.2.0",
      "_view_name": "StyleView",
      "description_width": ""
     }
    },
    "4980a54525d3474ea6fd08f48ff5265c": {
     "model_module": "@jupyter-widgets/base",
     "model_module_version": "1.2.0",
     "model_name": "LayoutModel",
     "state": {
      "_model_module": "@jupyter-widgets/base",
      "_model_module_version": "1.2.0",
      "_model_name": "LayoutModel",
      "_view_count": null,
      "_view_module": "@jupyter-widgets/base",
      "_view_module_version": "1.2.0",
      "_view_name": "LayoutView",
      "align_content": null,
      "align_items": null,
      "align_self": null,
      "border": null,
      "bottom": null,
      "display": null,
      "flex": null,
      "flex_flow": null,
      "grid_area": null,
      "grid_auto_columns": null,
      "grid_auto_flow": null,
      "grid_auto_rows": null,
      "grid_column": null,
      "grid_gap": null,
      "grid_row": null,
      "grid_template_areas": null,
      "grid_template_columns": null,
      "grid_template_rows": null,
      "height": null,
      "justify_content": null,
      "justify_items": null,
      "left": null,
      "margin": null,
      "max_height": null,
      "max_width": null,
      "min_height": null,
      "min_width": null,
      "object_fit": null,
      "object_position": null,
      "order": null,
      "overflow": null,
      "overflow_x": null,
      "overflow_y": null,
      "padding": null,
      "right": null,
      "top": null,
      "visibility": null,
      "width": null
     }
    },
    "4c1793c93a8f49bc928319aeae91961a": {
     "model_module": "@jupyter-widgets/controls",
     "model_module_version": "1.5.0",
     "model_name": "HBoxModel",
     "state": {
      "_dom_classes": [],
      "_model_module": "@jupyter-widgets/controls",
      "_model_module_version": "1.5.0",
      "_model_name": "HBoxModel",
      "_view_count": null,
      "_view_module": "@jupyter-widgets/controls",
      "_view_module_version": "1.5.0",
      "_view_name": "HBoxView",
      "box_style": "",
      "children": [
       "IPY_MODEL_0f659030efc2431d9e06f4063d9da11c",
       "IPY_MODEL_b1b46f1b62ab4640807706576d6e3542",
       "IPY_MODEL_0e0a94135f0a4b8a92d33553ab2d5858"
      ],
      "layout": "IPY_MODEL_c4fb2e86ceb3493585f3b9195ee42586"
     }
    },
    "54a294d2d0d04212bd5c4e5fa71d4891": {
     "model_module": "@jupyter-widgets/controls",
     "model_module_version": "1.5.0",
     "model_name": "ProgressStyleModel",
     "state": {
      "_model_module": "@jupyter-widgets/controls",
      "_model_module_version": "1.5.0",
      "_model_name": "ProgressStyleModel",
      "_view_count": null,
      "_view_module": "@jupyter-widgets/base",
      "_view_module_version": "1.2.0",
      "_view_name": "StyleView",
      "bar_color": null,
      "description_width": ""
     }
    },
    "5861e1887858417bb7be474105991264": {
     "model_module": "@jupyter-widgets/base",
     "model_module_version": "1.2.0",
     "model_name": "LayoutModel",
     "state": {
      "_model_module": "@jupyter-widgets/base",
      "_model_module_version": "1.2.0",
      "_model_name": "LayoutModel",
      "_view_count": null,
      "_view_module": "@jupyter-widgets/base",
      "_view_module_version": "1.2.0",
      "_view_name": "LayoutView",
      "align_content": null,
      "align_items": null,
      "align_self": null,
      "border": null,
      "bottom": null,
      "display": null,
      "flex": null,
      "flex_flow": null,
      "grid_area": null,
      "grid_auto_columns": null,
      "grid_auto_flow": null,
      "grid_auto_rows": null,
      "grid_column": null,
      "grid_gap": null,
      "grid_row": null,
      "grid_template_areas": null,
      "grid_template_columns": null,
      "grid_template_rows": null,
      "height": null,
      "justify_content": null,
      "justify_items": null,
      "left": null,
      "margin": null,
      "max_height": null,
      "max_width": null,
      "min_height": null,
      "min_width": null,
      "object_fit": null,
      "object_position": null,
      "order": null,
      "overflow": null,
      "overflow_x": null,
      "overflow_y": null,
      "padding": null,
      "right": null,
      "top": null,
      "visibility": null,
      "width": null
     }
    },
    "5957951df6f242c1b61274a3e49fa3f9": {
     "model_module": "@jupyter-widgets/controls",
     "model_module_version": "1.5.0",
     "model_name": "FloatProgressModel",
     "state": {
      "_dom_classes": [],
      "_model_module": "@jupyter-widgets/controls",
      "_model_module_version": "1.5.0",
      "_model_name": "FloatProgressModel",
      "_view_count": null,
      "_view_module": "@jupyter-widgets/controls",
      "_view_module_version": "1.5.0",
      "_view_name": "ProgressView",
      "bar_style": "success",
      "description": "",
      "description_tooltip": null,
      "layout": "IPY_MODEL_a731fff0ff0149b6b0ce9d775d0f06a1",
      "max": 456318,
      "min": 0,
      "orientation": "horizontal",
      "style": "IPY_MODEL_54a294d2d0d04212bd5c4e5fa71d4891",
      "value": 456318
     }
    },
    "614a20c3b78740dfb3ea58a068377650": {
     "model_module": "@jupyter-widgets/controls",
     "model_module_version": "1.5.0",
     "model_name": "ProgressStyleModel",
     "state": {
      "_model_module": "@jupyter-widgets/controls",
      "_model_module_version": "1.5.0",
      "_model_name": "ProgressStyleModel",
      "_view_count": null,
      "_view_module": "@jupyter-widgets/base",
      "_view_module_version": "1.2.0",
      "_view_name": "StyleView",
      "bar_color": null,
      "description_width": ""
     }
    },
    "633f3fa4f428449cb7a2e870d38e6aa3": {
     "model_module": "@jupyter-widgets/base",
     "model_module_version": "1.2.0",
     "model_name": "LayoutModel",
     "state": {
      "_model_module": "@jupyter-widgets/base",
      "_model_module_version": "1.2.0",
      "_model_name": "LayoutModel",
      "_view_count": null,
      "_view_module": "@jupyter-widgets/base",
      "_view_module_version": "1.2.0",
      "_view_name": "LayoutView",
      "align_content": null,
      "align_items": null,
      "align_self": null,
      "border": null,
      "bottom": null,
      "display": null,
      "flex": null,
      "flex_flow": null,
      "grid_area": null,
      "grid_auto_columns": null,
      "grid_auto_flow": null,
      "grid_auto_rows": null,
      "grid_column": null,
      "grid_gap": null,
      "grid_row": null,
      "grid_template_areas": null,
      "grid_template_columns": null,
      "grid_template_rows": null,
      "height": null,
      "justify_content": null,
      "justify_items": null,
      "left": null,
      "margin": null,
      "max_height": null,
      "max_width": null,
      "min_height": null,
      "min_width": null,
      "object_fit": null,
      "object_position": null,
      "order": null,
      "overflow": null,
      "overflow_x": null,
      "overflow_y": null,
      "padding": null,
      "right": null,
      "top": null,
      "visibility": null,
      "width": null
     }
    },
    "64c58cc7986d4992891de363c7507f5c": {
     "model_module": "@jupyter-widgets/controls",
     "model_module_version": "1.5.0",
     "model_name": "HTMLModel",
     "state": {
      "_dom_classes": [],
      "_model_module": "@jupyter-widgets/controls",
      "_model_module_version": "1.5.0",
      "_model_name": "HTMLModel",
      "_view_count": null,
      "_view_module": "@jupyter-widgets/controls",
      "_view_module_version": "1.5.0",
      "_view_name": "HTMLView",
      "description": "",
      "description_tooltip": null,
      "layout": "IPY_MODEL_3368b6f363ab4883a33c07f97faf5285",
      "placeholder": "​",
      "style": "IPY_MODEL_9f78f984cdbb419e978984c6cf1d75e9",
      "value": "Downloading: 100%"
     }
    },
    "67c164c5a0f64c64887d2484e870635c": {
     "model_module": "@jupyter-widgets/base",
     "model_module_version": "1.2.0",
     "model_name": "LayoutModel",
     "state": {
      "_model_module": "@jupyter-widgets/base",
      "_model_module_version": "1.2.0",
      "_model_name": "LayoutModel",
      "_view_count": null,
      "_view_module": "@jupyter-widgets/base",
      "_view_module_version": "1.2.0",
      "_view_name": "LayoutView",
      "align_content": null,
      "align_items": null,
      "align_self": null,
      "border": null,
      "bottom": null,
      "display": null,
      "flex": null,
      "flex_flow": null,
      "grid_area": null,
      "grid_auto_columns": null,
      "grid_auto_flow": null,
      "grid_auto_rows": null,
      "grid_column": null,
      "grid_gap": null,
      "grid_row": null,
      "grid_template_areas": null,
      "grid_template_columns": null,
      "grid_template_rows": null,
      "height": null,
      "justify_content": null,
      "justify_items": null,
      "left": null,
      "margin": null,
      "max_height": null,
      "max_width": null,
      "min_height": null,
      "min_width": null,
      "object_fit": null,
      "object_position": null,
      "order": null,
      "overflow": null,
      "overflow_x": null,
      "overflow_y": null,
      "padding": null,
      "right": null,
      "top": null,
      "visibility": null,
      "width": null
     }
    },
    "6d40bb529b0f4dbbab52f1f4647626f5": {
     "model_module": "@jupyter-widgets/base",
     "model_module_version": "1.2.0",
     "model_name": "LayoutModel",
     "state": {
      "_model_module": "@jupyter-widgets/base",
      "_model_module_version": "1.2.0",
      "_model_name": "LayoutModel",
      "_view_count": null,
      "_view_module": "@jupyter-widgets/base",
      "_view_module_version": "1.2.0",
      "_view_name": "LayoutView",
      "align_content": null,
      "align_items": null,
      "align_self": null,
      "border": null,
      "bottom": null,
      "display": null,
      "flex": null,
      "flex_flow": null,
      "grid_area": null,
      "grid_auto_columns": null,
      "grid_auto_flow": null,
      "grid_auto_rows": null,
      "grid_column": null,
      "grid_gap": null,
      "grid_row": null,
      "grid_template_areas": null,
      "grid_template_columns": null,
      "grid_template_rows": null,
      "height": null,
      "justify_content": null,
      "justify_items": null,
      "left": null,
      "margin": null,
      "max_height": null,
      "max_width": null,
      "min_height": null,
      "min_width": null,
      "object_fit": null,
      "object_position": null,
      "order": null,
      "overflow": null,
      "overflow_x": null,
      "overflow_y": null,
      "padding": null,
      "right": null,
      "top": null,
      "visibility": null,
      "width": null
     }
    },
    "7499d4e0e32c427ca2703ab0b17369e9": {
     "model_module": "@jupyter-widgets/base",
     "model_module_version": "1.2.0",
     "model_name": "LayoutModel",
     "state": {
      "_model_module": "@jupyter-widgets/base",
      "_model_module_version": "1.2.0",
      "_model_name": "LayoutModel",
      "_view_count": null,
      "_view_module": "@jupyter-widgets/base",
      "_view_module_version": "1.2.0",
      "_view_name": "LayoutView",
      "align_content": null,
      "align_items": null,
      "align_self": null,
      "border": null,
      "bottom": null,
      "display": null,
      "flex": null,
      "flex_flow": null,
      "grid_area": null,
      "grid_auto_columns": null,
      "grid_auto_flow": null,
      "grid_auto_rows": null,
      "grid_column": null,
      "grid_gap": null,
      "grid_row": null,
      "grid_template_areas": null,
      "grid_template_columns": null,
      "grid_template_rows": null,
      "height": null,
      "justify_content": null,
      "justify_items": null,
      "left": null,
      "margin": null,
      "max_height": null,
      "max_width": null,
      "min_height": null,
      "min_width": null,
      "object_fit": null,
      "object_position": null,
      "order": null,
      "overflow": null,
      "overflow_x": null,
      "overflow_y": null,
      "padding": null,
      "right": null,
      "top": null,
      "visibility": null,
      "width": null
     }
    },
    "74bf8e52cdcc4bb8a337fb3d5615ce27": {
     "model_module": "@jupyter-widgets/base",
     "model_module_version": "1.2.0",
     "model_name": "LayoutModel",
     "state": {
      "_model_module": "@jupyter-widgets/base",
      "_model_module_version": "1.2.0",
      "_model_name": "LayoutModel",
      "_view_count": null,
      "_view_module": "@jupyter-widgets/base",
      "_view_module_version": "1.2.0",
      "_view_name": "LayoutView",
      "align_content": null,
      "align_items": null,
      "align_self": null,
      "border": null,
      "bottom": null,
      "display": null,
      "flex": null,
      "flex_flow": null,
      "grid_area": null,
      "grid_auto_columns": null,
      "grid_auto_flow": null,
      "grid_auto_rows": null,
      "grid_column": null,
      "grid_gap": null,
      "grid_row": null,
      "grid_template_areas": null,
      "grid_template_columns": null,
      "grid_template_rows": null,
      "height": null,
      "justify_content": null,
      "justify_items": null,
      "left": null,
      "margin": null,
      "max_height": null,
      "max_width": null,
      "min_height": null,
      "min_width": null,
      "object_fit": null,
      "object_position": null,
      "order": null,
      "overflow": null,
      "overflow_x": null,
      "overflow_y": null,
      "padding": null,
      "right": null,
      "top": null,
      "visibility": null,
      "width": null
     }
    },
    "7719a43be32f4a77a938f4b477b2748f": {
     "model_module": "@jupyter-widgets/controls",
     "model_module_version": "1.5.0",
     "model_name": "DescriptionStyleModel",
     "state": {
      "_model_module": "@jupyter-widgets/controls",
      "_model_module_version": "1.5.0",
      "_model_name": "DescriptionStyleModel",
      "_view_count": null,
      "_view_module": "@jupyter-widgets/base",
      "_view_module_version": "1.2.0",
      "_view_name": "StyleView",
      "description_width": ""
     }
    },
    "78a043fedbc745b490400c8d186228b1": {
     "model_module": "@jupyter-widgets/controls",
     "model_module_version": "1.5.0",
     "model_name": "DescriptionStyleModel",
     "state": {
      "_model_module": "@jupyter-widgets/controls",
      "_model_module_version": "1.5.0",
      "_model_name": "DescriptionStyleModel",
      "_view_count": null,
      "_view_module": "@jupyter-widgets/base",
      "_view_module_version": "1.2.0",
      "_view_name": "StyleView",
      "description_width": ""
     }
    },
    "8db603033422408e8f53f8c4b51cd2f4": {
     "model_module": "@jupyter-widgets/controls",
     "model_module_version": "1.5.0",
     "model_name": "HTMLModel",
     "state": {
      "_dom_classes": [],
      "_model_module": "@jupyter-widgets/controls",
      "_model_module_version": "1.5.0",
      "_model_name": "HTMLModel",
      "_view_count": null,
      "_view_module": "@jupyter-widgets/controls",
      "_view_module_version": "1.5.0",
      "_view_name": "HTMLView",
      "description": "",
      "description_tooltip": null,
      "layout": "IPY_MODEL_67c164c5a0f64c64887d2484e870635c",
      "placeholder": "​",
      "style": "IPY_MODEL_490a77afcfdd42d4b521faa49c56686c",
      "value": " 446k/446k [00:00&lt;00:00, 5.96MB/s]"
     }
    },
    "91422f674a3544b58f02d0b3a7444403": {
     "model_module": "@jupyter-widgets/controls",
     "model_module_version": "1.5.0",
     "model_name": "FloatProgressModel",
     "state": {
      "_dom_classes": [],
      "_model_module": "@jupyter-widgets/controls",
      "_model_module_version": "1.5.0",
      "_model_name": "FloatProgressModel",
      "_view_count": null,
      "_view_module": "@jupyter-widgets/controls",
      "_view_module_version": "1.5.0",
      "_view_name": "ProgressView",
      "bar_style": "success",
      "description": "",
      "description_tooltip": null,
      "layout": "IPY_MODEL_2c6081056c83408eb739957da2f431dd",
      "max": 1628,
      "min": 0,
      "orientation": "horizontal",
      "style": "IPY_MODEL_31940852601343c595fb14d71e29cb03",
      "value": 1628
     }
    },
    "9ac4c151a8b040ffb06a8a2284520602": {
     "model_module": "@jupyter-widgets/base",
     "model_module_version": "1.2.0",
     "model_name": "LayoutModel",
     "state": {
      "_model_module": "@jupyter-widgets/base",
      "_model_module_version": "1.2.0",
      "_model_name": "LayoutModel",
      "_view_count": null,
      "_view_module": "@jupyter-widgets/base",
      "_view_module_version": "1.2.0",
      "_view_name": "LayoutView",
      "align_content": null,
      "align_items": null,
      "align_self": null,
      "border": null,
      "bottom": null,
      "display": null,
      "flex": null,
      "flex_flow": null,
      "grid_area": null,
      "grid_auto_columns": null,
      "grid_auto_flow": null,
      "grid_auto_rows": null,
      "grid_column": null,
      "grid_gap": null,
      "grid_row": null,
      "grid_template_areas": null,
      "grid_template_columns": null,
      "grid_template_rows": null,
      "height": null,
      "justify_content": null,
      "justify_items": null,
      "left": null,
      "margin": null,
      "max_height": null,
      "max_width": null,
      "min_height": null,
      "min_width": null,
      "object_fit": null,
      "object_position": null,
      "order": null,
      "overflow": null,
      "overflow_x": null,
      "overflow_y": null,
      "padding": null,
      "right": null,
      "top": null,
      "visibility": null,
      "width": null
     }
    },
    "9f78f984cdbb419e978984c6cf1d75e9": {
     "model_module": "@jupyter-widgets/controls",
     "model_module_version": "1.5.0",
     "model_name": "DescriptionStyleModel",
     "state": {
      "_model_module": "@jupyter-widgets/controls",
      "_model_module_version": "1.5.0",
      "_model_name": "DescriptionStyleModel",
      "_view_count": null,
      "_view_module": "@jupyter-widgets/base",
      "_view_module_version": "1.2.0",
      "_view_name": "StyleView",
      "description_width": ""
     }
    },
    "a47efc2103a14779baf089239caa60f4": {
     "model_module": "@jupyter-widgets/base",
     "model_module_version": "1.2.0",
     "model_name": "LayoutModel",
     "state": {
      "_model_module": "@jupyter-widgets/base",
      "_model_module_version": "1.2.0",
      "_model_name": "LayoutModel",
      "_view_count": null,
      "_view_module": "@jupyter-widgets/base",
      "_view_module_version": "1.2.0",
      "_view_name": "LayoutView",
      "align_content": null,
      "align_items": null,
      "align_self": null,
      "border": null,
      "bottom": null,
      "display": null,
      "flex": null,
      "flex_flow": null,
      "grid_area": null,
      "grid_auto_columns": null,
      "grid_auto_flow": null,
      "grid_auto_rows": null,
      "grid_column": null,
      "grid_gap": null,
      "grid_row": null,
      "grid_template_areas": null,
      "grid_template_columns": null,
      "grid_template_rows": null,
      "height": null,
      "justify_content": null,
      "justify_items": null,
      "left": null,
      "margin": null,
      "max_height": null,
      "max_width": null,
      "min_height": null,
      "min_width": null,
      "object_fit": null,
      "object_position": null,
      "order": null,
      "overflow": null,
      "overflow_x": null,
      "overflow_y": null,
      "padding": null,
      "right": null,
      "top": null,
      "visibility": null,
      "width": null
     }
    },
    "a731fff0ff0149b6b0ce9d775d0f06a1": {
     "model_module": "@jupyter-widgets/base",
     "model_module_version": "1.2.0",
     "model_name": "LayoutModel",
     "state": {
      "_model_module": "@jupyter-widgets/base",
      "_model_module_version": "1.2.0",
      "_model_name": "LayoutModel",
      "_view_count": null,
      "_view_module": "@jupyter-widgets/base",
      "_view_module_version": "1.2.0",
      "_view_name": "LayoutView",
      "align_content": null,
      "align_items": null,
      "align_self": null,
      "border": null,
      "bottom": null,
      "display": null,
      "flex": null,
      "flex_flow": null,
      "grid_area": null,
      "grid_auto_columns": null,
      "grid_auto_flow": null,
      "grid_auto_rows": null,
      "grid_column": null,
      "grid_gap": null,
      "grid_row": null,
      "grid_template_areas": null,
      "grid_template_columns": null,
      "grid_template_rows": null,
      "height": null,
      "justify_content": null,
      "justify_items": null,
      "left": null,
      "margin": null,
      "max_height": null,
      "max_width": null,
      "min_height": null,
      "min_width": null,
      "object_fit": null,
      "object_position": null,
      "order": null,
      "overflow": null,
      "overflow_x": null,
      "overflow_y": null,
      "padding": null,
      "right": null,
      "top": null,
      "visibility": null,
      "width": null
     }
    },
    "b1b46f1b62ab4640807706576d6e3542": {
     "model_module": "@jupyter-widgets/controls",
     "model_module_version": "1.5.0",
     "model_name": "FloatProgressModel",
     "state": {
      "_dom_classes": [],
      "_model_module": "@jupyter-widgets/controls",
      "_model_module_version": "1.5.0",
      "_model_name": "FloatProgressModel",
      "_view_count": null,
      "_view_module": "@jupyter-widgets/controls",
      "_view_module_version": "1.5.0",
      "_view_name": "ProgressView",
      "bar_style": "success",
      "description": "",
      "description_tooltip": null,
      "layout": "IPY_MODEL_4980a54525d3474ea6fd08f48ff5265c",
      "max": 26,
      "min": 0,
      "orientation": "horizontal",
      "style": "IPY_MODEL_46bc410fefb040f3893673dfc70d42ba",
      "value": 26
     }
    },
    "b37d10a979f449059230073babdf7b5b": {
     "model_module": "@jupyter-widgets/base",
     "model_module_version": "1.2.0",
     "model_name": "LayoutModel",
     "state": {
      "_model_module": "@jupyter-widgets/base",
      "_model_module_version": "1.2.0",
      "_model_name": "LayoutModel",
      "_view_count": null,
      "_view_module": "@jupyter-widgets/base",
      "_view_module_version": "1.2.0",
      "_view_name": "LayoutView",
      "align_content": null,
      "align_items": null,
      "align_self": null,
      "border": null,
      "bottom": null,
      "display": null,
      "flex": null,
      "flex_flow": null,
      "grid_area": null,
      "grid_auto_columns": null,
      "grid_auto_flow": null,
      "grid_auto_rows": null,
      "grid_column": null,
      "grid_gap": null,
      "grid_row": null,
      "grid_template_areas": null,
      "grid_template_columns": null,
      "grid_template_rows": null,
      "height": null,
      "justify_content": null,
      "justify_items": null,
      "left": null,
      "margin": null,
      "max_height": null,
      "max_width": null,
      "min_height": null,
      "min_width": null,
      "object_fit": null,
      "object_position": null,
      "order": null,
      "overflow": null,
      "overflow_x": null,
      "overflow_y": null,
      "padding": null,
      "right": null,
      "top": null,
      "visibility": null,
      "width": null
     }
    },
    "b6ef73b406e44d89a02d863ee72778cd": {
     "model_module": "@jupyter-widgets/controls",
     "model_module_version": "1.5.0",
     "model_name": "HTMLModel",
     "state": {
      "_dom_classes": [],
      "_model_module": "@jupyter-widgets/controls",
      "_model_module_version": "1.5.0",
      "_model_name": "HTMLModel",
      "_view_count": null,
      "_view_module": "@jupyter-widgets/controls",
      "_view_module_version": "1.5.0",
      "_view_name": "HTMLView",
      "description": "",
      "description_tooltip": null,
      "layout": "IPY_MODEL_2edc6e5c54424faf99592b2cff3c9d62",
      "placeholder": "​",
      "style": "IPY_MODEL_7719a43be32f4a77a938f4b477b2748f",
      "value": " 971M/971M [00:24&lt;00:00, 43.0MB/s]"
     }
    },
    "c4fb2e86ceb3493585f3b9195ee42586": {
     "model_module": "@jupyter-widgets/base",
     "model_module_version": "1.2.0",
     "model_name": "LayoutModel",
     "state": {
      "_model_module": "@jupyter-widgets/base",
      "_model_module_version": "1.2.0",
      "_model_name": "LayoutModel",
      "_view_count": null,
      "_view_module": "@jupyter-widgets/base",
      "_view_module_version": "1.2.0",
      "_view_name": "LayoutView",
      "align_content": null,
      "align_items": null,
      "align_self": null,
      "border": null,
      "bottom": null,
      "display": null,
      "flex": null,
      "flex_flow": null,
      "grid_area": null,
      "grid_auto_columns": null,
      "grid_auto_flow": null,
      "grid_auto_rows": null,
      "grid_column": null,
      "grid_gap": null,
      "grid_row": null,
      "grid_template_areas": null,
      "grid_template_columns": null,
      "grid_template_rows": null,
      "height": null,
      "justify_content": null,
      "justify_items": null,
      "left": null,
      "margin": null,
      "max_height": null,
      "max_width": null,
      "min_height": null,
      "min_width": null,
      "object_fit": null,
      "object_position": null,
      "order": null,
      "overflow": null,
      "overflow_x": null,
      "overflow_y": null,
      "padding": null,
      "right": null,
      "top": null,
      "visibility": null,
      "width": null
     }
    },
    "d0b7d719665b4c27acaebf04a3720429": {
     "model_module": "@jupyter-widgets/controls",
     "model_module_version": "1.5.0",
     "model_name": "HTMLModel",
     "state": {
      "_dom_classes": [],
      "_model_module": "@jupyter-widgets/controls",
      "_model_module_version": "1.5.0",
      "_model_name": "HTMLModel",
      "_view_count": null,
      "_view_module": "@jupyter-widgets/controls",
      "_view_module_version": "1.5.0",
      "_view_name": "HTMLView",
      "description": "",
      "description_tooltip": null,
      "layout": "IPY_MODEL_a47efc2103a14779baf089239caa60f4",
      "placeholder": "​",
      "style": "IPY_MODEL_0c2cfc32469645fab87cb76f6ec59344",
      "value": " 1.59k/1.59k [00:00&lt;00:00, 41.3kB/s]"
     }
    },
    "d2348062f8d24087bf2e86beb94130bd": {
     "model_module": "@jupyter-widgets/controls",
     "model_module_version": "1.5.0",
     "model_name": "DescriptionStyleModel",
     "state": {
      "_model_module": "@jupyter-widgets/controls",
      "_model_module_version": "1.5.0",
      "_model_name": "DescriptionStyleModel",
      "_view_count": null,
      "_view_module": "@jupyter-widgets/base",
      "_view_module_version": "1.2.0",
      "_view_name": "StyleView",
      "description_width": ""
     }
    },
    "d6625c5b5ca04c6f806082093b2b5624": {
     "model_module": "@jupyter-widgets/controls",
     "model_module_version": "1.5.0",
     "model_name": "HBoxModel",
     "state": {
      "_dom_classes": [],
      "_model_module": "@jupyter-widgets/controls",
      "_model_module_version": "1.5.0",
      "_model_name": "HBoxModel",
      "_view_count": null,
      "_view_module": "@jupyter-widgets/controls",
      "_view_module_version": "1.5.0",
      "_view_name": "HBoxView",
      "box_style": "",
      "children": [
       "IPY_MODEL_64c58cc7986d4992891de363c7507f5c",
       "IPY_MODEL_91422f674a3544b58f02d0b3a7444403",
       "IPY_MODEL_d0b7d719665b4c27acaebf04a3720429"
      ],
      "layout": "IPY_MODEL_4726cbc924734436bc4e9141de12cadb"
     }
    },
    "d860118c967b485b9e3099bc0260bbe2": {
     "model_module": "@jupyter-widgets/controls",
     "model_module_version": "1.5.0",
     "model_name": "HBoxModel",
     "state": {
      "_dom_classes": [],
      "_model_module": "@jupyter-widgets/controls",
      "_model_module_version": "1.5.0",
      "_model_name": "HBoxModel",
      "_view_count": null,
      "_view_module": "@jupyter-widgets/controls",
      "_view_module_version": "1.5.0",
      "_view_name": "HBoxView",
      "box_style": "",
      "children": [
       "IPY_MODEL_e827eabf22704dc989036d3eecad5582",
       "IPY_MODEL_0dedb6fd7d224ea28df67fc449f09971",
       "IPY_MODEL_e5dce3ef0cd84ae4ad738d3dc6979ae1"
      ],
      "layout": "IPY_MODEL_b37d10a979f449059230073babdf7b5b"
     }
    },
    "e5dce3ef0cd84ae4ad738d3dc6979ae1": {
     "model_module": "@jupyter-widgets/controls",
     "model_module_version": "1.5.0",
     "model_name": "HTMLModel",
     "state": {
      "_dom_classes": [],
      "_model_module": "@jupyter-widgets/controls",
      "_model_module_version": "1.5.0",
      "_model_name": "HTMLModel",
      "_view_count": null,
      "_view_module": "@jupyter-widgets/controls",
      "_view_module_version": "1.5.0",
      "_view_name": "HTMLView",
      "description": "",
      "description_tooltip": null,
      "layout": "IPY_MODEL_10ae21f4cfe6479a891e219fd35588dc",
      "placeholder": "​",
      "style": "IPY_MODEL_d2348062f8d24087bf2e86beb94130bd",
      "value": " 878k/878k [00:00&lt;00:00, 10.5MB/s]"
     }
    },
    "e827eabf22704dc989036d3eecad5582": {
     "model_module": "@jupyter-widgets/controls",
     "model_module_version": "1.5.0",
     "model_name": "HTMLModel",
     "state": {
      "_dom_classes": [],
      "_model_module": "@jupyter-widgets/controls",
      "_model_module_version": "1.5.0",
      "_model_name": "HTMLModel",
      "_view_count": null,
      "_view_module": "@jupyter-widgets/controls",
      "_view_module_version": "1.5.0",
      "_view_name": "HTMLView",
      "description": "",
      "description_tooltip": null,
      "layout": "IPY_MODEL_5861e1887858417bb7be474105991264",
      "placeholder": "​",
      "style": "IPY_MODEL_023d5ffbf2d64981a2e65e555404d19f",
      "value": "Downloading: 100%"
     }
    },
    "e8d23af4a2294bc09b13e6c4c81fe7d5": {
     "model_module": "@jupyter-widgets/controls",
     "model_module_version": "1.5.0",
     "model_name": "HTMLModel",
     "state": {
      "_dom_classes": [],
      "_model_module": "@jupyter-widgets/controls",
      "_model_module_version": "1.5.0",
      "_model_name": "HTMLModel",
      "_view_count": null,
      "_view_module": "@jupyter-widgets/controls",
      "_view_module_version": "1.5.0",
      "_view_name": "HTMLView",
      "description": "",
      "description_tooltip": null,
      "layout": "IPY_MODEL_fabf4b303ac74893a244a92767e96816",
      "placeholder": "​",
      "style": "IPY_MODEL_18b492a4fd4541e48921ca4a3b89a5ce",
      "value": "Downloading: 100%"
     }
    },
    "f52805bb48bf4f84a278760ce70b2670": {
     "model_module": "@jupyter-widgets/controls",
     "model_module_version": "1.5.0",
     "model_name": "DescriptionStyleModel",
     "state": {
      "_model_module": "@jupyter-widgets/controls",
      "_model_module_version": "1.5.0",
      "_model_name": "DescriptionStyleModel",
      "_view_count": null,
      "_view_module": "@jupyter-widgets/base",
      "_view_module_version": "1.2.0",
      "_view_name": "StyleView",
      "description_width": ""
     }
    },
    "fabf4b303ac74893a244a92767e96816": {
     "model_module": "@jupyter-widgets/base",
     "model_module_version": "1.2.0",
     "model_name": "LayoutModel",
     "state": {
      "_model_module": "@jupyter-widgets/base",
      "_model_module_version": "1.2.0",
      "_model_name": "LayoutModel",
      "_view_count": null,
      "_view_module": "@jupyter-widgets/base",
      "_view_module_version": "1.2.0",
      "_view_name": "LayoutView",
      "align_content": null,
      "align_items": null,
      "align_self": null,
      "border": null,
      "bottom": null,
      "display": null,
      "flex": null,
      "flex_flow": null,
      "grid_area": null,
      "grid_auto_columns": null,
      "grid_auto_flow": null,
      "grid_auto_rows": null,
      "grid_column": null,
      "grid_gap": null,
      "grid_row": null,
      "grid_template_areas": null,
      "grid_template_columns": null,
      "grid_template_rows": null,
      "height": null,
      "justify_content": null,
      "justify_items": null,
      "left": null,
      "margin": null,
      "max_height": null,
      "max_width": null,
      "min_height": null,
      "min_width": null,
      "object_fit": null,
      "object_position": null,
      "order": null,
      "overflow": null,
      "overflow_x": null,
      "overflow_y": null,
      "padding": null,
      "right": null,
      "top": null,
      "visibility": null,
      "width": null
     }
    }
   }
  }
 },
 "nbformat": 4,
 "nbformat_minor": 0
}
